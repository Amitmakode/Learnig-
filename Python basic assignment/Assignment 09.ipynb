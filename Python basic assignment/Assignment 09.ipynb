{
 "cells": [
  {
   "cell_type": "markdown",
   "id": "3eb9afe1",
   "metadata": {},
   "source": [
    "1. To what does a relative path refer?"
   ]
  },
  {
   "cell_type": "code",
   "execution_count": 1,
   "id": "618bb4b4",
   "metadata": {},
   "outputs": [],
   "source": [
    "#Ans: The relative path is the path to some file with respect to your present working directory (PWD).\n",
    "#For example: if Absolute path to a file called Test1.txt is: \n",
    "        #C:/users/admin/docs/Test1.txt \n",
    "#If my PWD is \n",
    "#C:/users/admin/\n",
    "#then the relative path to Test1.txt would be: \n",
    "#docs/Test1.txt\n",
    "#Note: PWD + relative path = absolute path"
   ]
  },
  {
   "cell_type": "markdown",
   "id": "2179f216",
   "metadata": {},
   "source": [
    "2. What does an absolute path start with your operating system?"
   ]
  },
  {
   "cell_type": "code",
   "execution_count": null,
   "id": "abc8e114",
   "metadata": {},
   "outputs": [],
   "source": [
    "#Ans: In Windows based systems absolute path starts with C:, \n",
    "#Where as in Linux based systems the absolute path starts with /. "
   ]
  },
  {
   "cell_type": "markdown",
   "id": "b93bb99e",
   "metadata": {},
   "source": [
    "3. What do the functions os.getcwd() and os.chdir() do?"
   ]
  },
  {
   "cell_type": "code",
   "execution_count": 21,
   "id": "f9d746c2",
   "metadata": {},
   "outputs": [
    {
     "name": "stdout",
     "output_type": "stream",
     "text": [
      "C:\\Users\\AmitM\\Assignment\n"
     ]
    }
   ],
   "source": [
    "#Ans: os.getcwd() method tells us the location of current working directory (CWD). Whereas os.chdir() method in Python used to change the current working directory to specified path.\n",
    "\n",
    "import os\n",
    "print(os.getcwd())    #Prints the current Working Director \n"
   ]
  },
  {
   "cell_type": "code",
   "execution_count": 32,
   "id": "717fb836",
   "metadata": {},
   "outputs": [
    {
     "name": "stdout",
     "output_type": "stream",
     "text": [
      "Directory changed\n"
     ]
    }
   ],
   "source": [
    "import os\n",
    "os.chdir(r\"C:\\Users\\AmitM\\Assignment\")\n",
    " \n",
    "print(\"Directory changed\")"
   ]
  },
  {
   "cell_type": "markdown",
   "id": "d56a2bd8",
   "metadata": {},
   "source": [
    "4. What are the . and .. folders?"
   ]
  },
  {
   "cell_type": "code",
   "execution_count": 33,
   "id": "829697fe",
   "metadata": {},
   "outputs": [],
   "source": [
    "#Ans: '.' Represents the Current Directory Whereas '..' Represents the Parent Directory of the Current Directory\n",
    "# For Example: if the below path is my absolute path:\n",
    "## C:\\User\\AmitM\\Assignments\\Python_basic\n",
    "# Then . represents the path \n",
    "## C:\\User\\AmitM\\Assignments\\Python_basic\n",
    "# Where as .. represents the path \n",
    "## C:\\User\\AmitM\\Assignments"
   ]
  },
  {
   "cell_type": "markdown",
   "id": "80e942d4",
   "metadata": {},
   "source": [
    "5. In C:\\bacon\\eggs\\spam.txt, which part is the dir name, and which part is the base name?"
   ]
  },
  {
   "cell_type": "code",
   "execution_count": 34,
   "id": "4f60bcd3",
   "metadata": {},
   "outputs": [
    {
     "name": "stdout",
     "output_type": "stream",
     "text": [
      "C:\\bacon\\eggs\n",
      "spam.txt\n"
     ]
    }
   ],
   "source": [
    "#Ans: For C:\\bacon\\eggs\\spam.txt\n",
    "# The dir name is C:\\\\bacon\\\\eggs\n",
    "# The Base name is spam.txt\n",
    "\n",
    "import os\n",
    "path = r'C:\\bacon\\eggs\\spam.txt'\n",
    "print(os.path.dirname(path))\n",
    "print(os.path.basename(path))"
   ]
  },
  {
   "cell_type": "markdown",
   "id": "2a93f78c",
   "metadata": {},
   "source": [
    "6. What are the three “mode” arguments that can be passed to the open() function?"
   ]
  },
  {
   "cell_type": "code",
   "execution_count": null,
   "id": "58b9e412",
   "metadata": {},
   "outputs": [],
   "source": [
    "#Ans: A file can be Accessed in python using open() function. open function takes two arguments filename and mode of operation (optional). if mode is not provided the default mode of opening is read mode\n",
    "# So, the syntax being: open(filename, mode)\n",
    "\n",
    "#  ‘r’ – Read Mode: This is the default mode for open(). The file is opened and a pointer is positioned at the beginning of the file’s content.\n",
    "#  ‘w’ – Write Mode: Using this mode will overwrite any existing content in a file. If the given file does not exist, a new one will be created.\n",
    "#  ‘r+’ – Read/Write Mode: Use this mode if you need to simultaneously read and write to a file.\n",
    "#  ‘a’ – Append Mode: With this mode the user can append the data without overwriting any already existing data in the file."
   ]
  },
  {
   "cell_type": "markdown",
   "id": "2ab755b8",
   "metadata": {},
   "source": [
    "7. What happens if an existing file is opened in write mode?"
   ]
  },
  {
   "cell_type": "code",
   "execution_count": null,
   "id": "4d4da713",
   "metadata": {},
   "outputs": [],
   "source": [
    "# Ans: Using this mode will overwrite any existing content in a file. \n",
    "# If the given file does not exist, a new one will be created.\n"
   ]
  },
  {
   "cell_type": "markdown",
   "id": "9bfc19d1",
   "metadata": {},
   "source": [
    "8. How do you tell the difference between read() and readlines()?"
   ]
  },
  {
   "cell_type": "code",
   "execution_count": null,
   "id": "0b20b691",
   "metadata": {},
   "outputs": [],
   "source": [
    "# Ans:The main difference is that read() will read the whole file at once and then print out the first characters that take up as many bytes as you specify in the parenthesis. \n",
    "#  The readline() that will read and print out only the first characters that take up as many bytes as you specify in the parenthesis.\n",
    "# The readline() function, on the other hand, only reads a single line of the file. This means that if the first line of the file were three lines long, the readline() function would only parse (or iterate/operate) on the first line of the file."
   ]
  },
  {
   "cell_type": "markdown",
   "id": "63f88fbc",
   "metadata": {},
   "source": [
    "9. What data structure does a shelf value resemble?"
   ]
  },
  {
   "cell_type": "code",
   "execution_count": 35,
   "id": "baf55bfe",
   "metadata": {},
   "outputs": [],
   "source": [
    "# Ans: A shelf value resembles a dictionary value; it has keys and values, along with keys() and values() methods that work similarly to the dictionary methods of the same names."
   ]
  }
 ],
 "metadata": {
  "kernelspec": {
   "display_name": "Python 3 (ipykernel)",
   "language": "python",
   "name": "python3"
  },
  "language_info": {
   "codemirror_mode": {
    "name": "ipython",
    "version": 3
   },
   "file_extension": ".py",
   "mimetype": "text/x-python",
   "name": "python",
   "nbconvert_exporter": "python",
   "pygments_lexer": "ipython3",
   "version": "3.9.7"
  }
 },
 "nbformat": 4,
 "nbformat_minor": 5
}
