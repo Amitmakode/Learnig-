{
 "cells": [
  {
   "cell_type": "markdown",
   "id": "0a4c17cc",
   "metadata": {},
   "source": [
    "1. How do you distinguish between shutil.copy() and shutil.copytree()?"
   ]
  },
  {
   "cell_type": "code",
   "execution_count": null,
   "id": "f3249471",
   "metadata": {},
   "outputs": [],
   "source": [
    "# Ans: shutil.copy() method is used to copy the contents of a file from one file to another file/folder.\n",
    "# It primary takes two arguments src, dest, src represents the file to be copied where as destination refers to the file/folder to where the src data should be copied, \n",
    "# If dest is a folder name the src with exact name will be copied to the dest folder, if its a file then the contents of src will be copied to dest where dest retains it name.\n",
    "\n",
    "#shutil.copytree() function is used to copy the entire contents of a folder to other folder.\n",
    "# It also takes two arguments src & dest, it copies all the content recursively and stores it in dest. \n",
    "# The important catch here is dest must not exist prior to this and it will be created during the copy operation.\n",
    "# Permissions and times of directories are copied with shutil.copystat() and individual files are copied using shutil.copy2() by default which can be modified using copy_function attribute."
   ]
  },
  {
   "cell_type": "markdown",
   "id": "5e7211fa",
   "metadata": {},
   "source": [
    "2. What function is used to rename files??"
   ]
  },
  {
   "cell_type": "code",
   "execution_count": null,
   "id": "d65c72c4",
   "metadata": {},
   "outputs": [],
   "source": [
    "# Ans:OS module in Python provides functions for interacting with the operating system. OS comes under Python’s standard utility modules. This module provides a portable way of using operating system dependent functionality.\n",
    "\n",
    "# os.rename() method in Python is used to rename a file or directory.\n",
    "# This method renames a source file/ directory to specified destination file/directory."
   ]
  },
  {
   "cell_type": "markdown",
   "id": "3fbba1f1",
   "metadata": {},
   "source": [
    "3. What is the difference between the delete functions in the send2trash and shutil modules?"
   ]
  },
  {
   "cell_type": "code",
   "execution_count": 1,
   "id": "fb226b86",
   "metadata": {},
   "outputs": [],
   "source": [
    "#nAns: Instead of deleting permanantly, this module will send it to the trash of the operating system.\n",
    "\n",
    "# It doesn't come with python so it needs to be installed with the pip installer. It can be installed on windows by opening command prompt and typing the following\n",
    "# pip install send2trash\n",
    "\n",
    "# Shutil module provides a funciton called as shutil.rmtree() which deletes a directory and all its contents. \n",
    "# The other functions with similar functionality are os.remove() -> removes a file, os.rmdir() removes a empty directory. \n",
    "# The problem with these functions is once a file is deleted. it will be lost permanently, \n",
    "# If a file is deleted accidentally using these methods there is no way we can recover the deleted file"
   ]
  },
  {
   "cell_type": "markdown",
   "id": "e1e64516",
   "metadata": {},
   "source": [
    "4.ZipFile objects have a close() method just like File objects’ close() method. What ZipFile method is equivalent to File objects’ open() method?"
   ]
  },
  {
   "cell_type": "code",
   "execution_count": null,
   "id": "0616d796",
   "metadata": {},
   "outputs": [],
   "source": [
    "# Ans: ZipFile Module provides a method called as zipfile.ZipFile() to read and write to zipFiles.\n",
    "# It takes arugments like filename and mode etc zipfile.ZipFile('filename', mode = 'r')\n"
   ]
  },
  {
   "cell_type": "markdown",
   "id": "cafb23b0",
   "metadata": {},
   "source": [
    "5. Create a programme that searches a folder tree for files with a certain file extension (such as .pdf or .jpg). Copy these files from whatever location they are in to a new folder."
   ]
  },
  {
   "cell_type": "code",
   "execution_count": 1,
   "id": "e363fd33",
   "metadata": {},
   "outputs": [],
   "source": [
    "#Ans: \n",
    "import os\n",
    "import shutil\n",
    "\n",
    "def search_and_copy(source,destination,extensions):\n",
    "    source = os.path.abspath(source)\n",
    "    destination = os.path.abspath(destination)\n",
    "    for foldername, subfolder, filenames in os.walk(source):\n",
    "        print(f'Folder Name ➞ {foldername}',end='\\n\\n')\n",
    "        print(f'Sub Folders ➞ {subfolder}',end='\\n\\n')\n",
    "        print(f'Files ➞ {filenames}',end='\\n\\n')\n",
    "        for filename in filenames:\n",
    "            fileName,extension = os.path.splitext(filename)\n",
    "            if extension in extensions:\n",
    "                targetFile = foldername+os.path.sep+fileName+extension\n",
    "                shutil.copy(targetFile, destination)\n",
    "        print(f'Files copied successfully from {source} to {destination}')\n",
    "    \n",
    "extensions = ['.pdf','.jpg','.ipynb']\n",
    "source = 'Dummy Source'\n",
    "destination = 'Dummy Destination'\n",
    "search_and_copy(source, destination, extensions)"
   ]
  }
 ],
 "metadata": {
  "kernelspec": {
   "display_name": "Python 3 (ipykernel)",
   "language": "python",
   "name": "python3"
  },
  "language_info": {
   "codemirror_mode": {
    "name": "ipython",
    "version": 3
   },
   "file_extension": ".py",
   "mimetype": "text/x-python",
   "name": "python",
   "nbconvert_exporter": "python",
   "pygments_lexer": "ipython3",
   "version": "3.9.7"
  }
 },
 "nbformat": 4,
 "nbformat_minor": 5
}
