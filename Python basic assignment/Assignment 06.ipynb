{
 "cells": [
  {
   "cell_type": "markdown",
   "id": "085a1885",
   "metadata": {},
   "source": [
    "1. What are escape characters, and how do you use them?"
   ]
  },
  {
   "cell_type": "code",
   "execution_count": 1,
   "id": "8cca204e",
   "metadata": {},
   "outputs": [],
   "source": [
    "#Ans: To insert characters that are illegal in a string, use an escape character.\n",
    "#An escape character is a backslash \\ followed by the character you want to insert.\n",
    "# example: \\t, \\n, \\f, \\b"
   ]
  },
  {
   "cell_type": "markdown",
   "id": "7a3e85a5",
   "metadata": {},
   "source": [
    "2. What do the escape characters n and t stand for?"
   ]
  },
  {
   "cell_type": "code",
   "execution_count": 2,
   "id": "d023c31e",
   "metadata": {},
   "outputs": [],
   "source": [
    "#Ans: \\n is a newline\n",
    "##   \\t  is a tab"
   ]
  },
  {
   "cell_type": "markdown",
   "id": "60a4d789",
   "metadata": {},
   "source": [
    "3. What is the way to include backslash characters in a string?"
   ]
  },
  {
   "cell_type": "code",
   "execution_count": 4,
   "id": "625b15d1",
   "metadata": {},
   "outputs": [
    {
     "name": "stdout",
     "output_type": "stream",
     "text": [
      "This will insert one \\ (backslash).\n"
     ]
    }
   ],
   "source": [
    "#Ans:\n",
    "text_1 = \"This will insert one \\\\ (backslash).\"\n",
    "print(text_1) "
   ]
  },
  {
   "cell_type": "markdown",
   "id": "85b6e5ae",
   "metadata": {},
   "source": [
    "4. The string \"Howl's Moving Castle\" is a correct value. Why isn't the single quote character in the word Howl's not escaped a problem?"
   ]
  },
  {
   "cell_type": "code",
   "execution_count": 10,
   "id": "75138fa9",
   "metadata": {},
   "outputs": [
    {
     "name": "stdout",
     "output_type": "stream",
     "text": [
      "Howl's Moving Castle\n",
      "howl's Moving Castle\n"
     ]
    }
   ],
   "source": [
    "#Ans: The string \"Howl's Moving Castle\" escaped the problem because it is wrapped inside double quotes. \n",
    "#if its wrapped inside single quotes then we have to use escape character \\' to show single quote in the final output\n",
    "\n",
    "print('Howl\\'s Moving Castle') \n",
    "print(\"howl's Moving Castle\")"
   ]
  },
  {
   "cell_type": "markdown",
   "id": "f66a0298",
   "metadata": {},
   "source": [
    "5. How do you write a string of newlines if you don't want to use the n character?"
   ]
  },
  {
   "cell_type": "code",
   "execution_count": 13,
   "id": "67fedc27",
   "metadata": {},
   "outputs": [
    {
     "name": "stdout",
     "output_type": "stream",
     "text": [
      "This is my assignment\n",
      "for  iNeuron FSDSC\n"
     ]
    }
   ],
   "source": [
    "#Ans: Multiline string allow you to use newlines in string without the \\n escape character\n",
    "\n",
    "#Example:\n",
    "a = \"\"\"This is my assignment\n",
    "for  iNeuron FSDSC\"\"\"\n",
    "print(a)"
   ]
  },
  {
   "cell_type": "markdown",
   "id": "ee40335c",
   "metadata": {},
   "source": [
    "6. What are the values of the given expressions?\n",
    "#'Hello, world!'[1]\n",
    "#'Hello, world!'[0:5]\n",
    "#'Hello, world!'[:5]\n",
    "#'Hello, world!'[3:]\n"
   ]
  },
  {
   "cell_type": "code",
   "execution_count": 21,
   "id": "3b4f458f",
   "metadata": {},
   "outputs": [
    {
     "data": {
      "text/plain": [
       "'Hello'"
      ]
     },
     "execution_count": 21,
     "metadata": {},
     "output_type": "execute_result"
    }
   ],
   "source": [
    "#Ans:\n",
    "'Hello, world!'\n",
    "'Hello, world!'[1]\n",
    "\n",
    "\n"
   ]
  },
  {
   "cell_type": "code",
   "execution_count": 22,
   "id": "7d6ecbb9",
   "metadata": {},
   "outputs": [
    {
     "data": {
      "text/plain": [
       "'Hello'"
      ]
     },
     "execution_count": 22,
     "metadata": {},
     "output_type": "execute_result"
    }
   ],
   "source": [
    "'Hello, world!'[0:5]"
   ]
  },
  {
   "cell_type": "code",
   "execution_count": 23,
   "id": "7441e734",
   "metadata": {},
   "outputs": [
    {
     "data": {
      "text/plain": [
       "'Hello'"
      ]
     },
     "execution_count": 23,
     "metadata": {},
     "output_type": "execute_result"
    }
   ],
   "source": [
    "'Hello, world!'[:5]"
   ]
  },
  {
   "cell_type": "code",
   "execution_count": 25,
   "id": "95861b6b",
   "metadata": {},
   "outputs": [
    {
     "data": {
      "text/plain": [
       "'lo, world!'"
      ]
     },
     "execution_count": 25,
     "metadata": {},
     "output_type": "execute_result"
    }
   ],
   "source": [
    "'Hello, world!'[3:]"
   ]
  },
  {
   "cell_type": "code",
   "execution_count": null,
   "id": "5dd5fc36",
   "metadata": {},
   "outputs": [],
   "source": [
    "7. What are the values of the following expressions?\n",
    "#'Hello'.upper()\n",
    "#'Hello'.upper().isupper()\n",
    "#'Hello'.upper().lower()\n"
   ]
  },
  {
   "cell_type": "code",
   "execution_count": 26,
   "id": "a79b4c7c",
   "metadata": {},
   "outputs": [
    {
     "data": {
      "text/plain": [
       "'HELLO'"
      ]
     },
     "execution_count": 26,
     "metadata": {},
     "output_type": "execute_result"
    }
   ],
   "source": [
    "#Ans: \n",
    "'Hello'.upper()"
   ]
  },
  {
   "cell_type": "code",
   "execution_count": 27,
   "id": "0ca4bd01",
   "metadata": {},
   "outputs": [
    {
     "data": {
      "text/plain": [
       "True"
      ]
     },
     "execution_count": 27,
     "metadata": {},
     "output_type": "execute_result"
    }
   ],
   "source": [
    "'Hello'.upper().isupper()"
   ]
  },
  {
   "cell_type": "code",
   "execution_count": 32,
   "id": "e85107a1",
   "metadata": {},
   "outputs": [
    {
     "data": {
      "text/plain": [
       "'hello'"
      ]
     },
     "execution_count": 32,
     "metadata": {},
     "output_type": "execute_result"
    }
   ],
   "source": [
    "'Hello'.upper().lower()"
   ]
  },
  {
   "cell_type": "code",
   "execution_count": null,
   "id": "f5f2cff3",
   "metadata": {},
   "outputs": [],
   "source": [
    "8. What are the values of the following expressions?\n",
    "#'Remember, remember, the fifth of July.'.split()\n",
    "#'-'.join('There can only one.'.split())\n"
   ]
  },
  {
   "cell_type": "code",
   "execution_count": 50,
   "id": "f2b708a0",
   "metadata": {},
   "outputs": [
    {
     "data": {
      "text/plain": [
       "['Remember,', 'remember,', 'the', 'fifth', 'of', 'July.']"
      ]
     },
     "execution_count": 50,
     "metadata": {},
     "output_type": "execute_result"
    }
   ],
   "source": [
    "#Ans:\n",
    "'Remember, remember, the fifth of July.'.split()"
   ]
  },
  {
   "cell_type": "code",
   "execution_count": 52,
   "id": "59ac58f5",
   "metadata": {},
   "outputs": [
    {
     "data": {
      "text/plain": [
       "'There-can-only-one'"
      ]
     },
     "execution_count": 52,
     "metadata": {},
     "output_type": "execute_result"
    }
   ],
   "source": [
    "'-'.join('There can only one'.split())"
   ]
  },
  {
   "cell_type": "markdown",
   "id": "d0a1ca69",
   "metadata": {},
   "source": [
    "9. What are the methods for right-justifying, left-justifying, and centering a string?"
   ]
  },
  {
   "cell_type": "code",
   "execution_count": 54,
   "id": "0eaa5b11",
   "metadata": {},
   "outputs": [
    {
     "name": "stdout",
     "output_type": "stream",
     "text": [
      "          Apple is my favorite fruit.\n"
     ]
    }
   ],
   "source": [
    "#Ans:\n",
    "fruit = \"Apple\"\n",
    "\n",
    "x = fruit.rjust(15)\n",
    "\n",
    "print(x, \"is my favorite fruit.\")"
   ]
  },
  {
   "cell_type": "code",
   "execution_count": 55,
   "id": "285d381b",
   "metadata": {},
   "outputs": [
    {
     "name": "stdout",
     "output_type": "stream",
     "text": [
      "Apple           is my favorite fruit.\n"
     ]
    }
   ],
   "source": [
    "fruit = \"Apple\"\n",
    "\n",
    "x = fruit.ljust(15)\n",
    "\n",
    "print(x, \"is my favorite fruit.\")"
   ]
  },
  {
   "cell_type": "code",
   "execution_count": 62,
   "id": "c34965e3",
   "metadata": {},
   "outputs": [
    {
     "name": "stdout",
     "output_type": "stream",
     "text": [
      "            Apple              is my favorite fruit.\n"
     ]
    }
   ],
   "source": [
    "fruit = \"Apple\"\n",
    "\n",
    "x = fruit.center(30)\n",
    "\n",
    "print(x, \"is my favorite fruit.\")"
   ]
  },
  {
   "cell_type": "markdown",
   "id": "4724dadc",
   "metadata": {},
   "source": [
    "10. What is the best way to remove whitespace characters from the start or end?"
   ]
  },
  {
   "cell_type": "code",
   "execution_count": 70,
   "id": "8fcf18fb",
   "metadata": {},
   "outputs": [
    {
     "name": "stdout",
     "output_type": "stream",
     "text": [
      "String after stripping'-' is : ineuron----------\n",
      "String after stripping'-' is : ---------ineuron\n"
     ]
    }
   ],
   "source": [
    "#Ans: The lstrip() and rstrip() methods remove whitesapce characters from the left and right ends of a string respectively\n",
    "\n",
    "str = \"---------ineuron----------\"\n",
    "  \n",
    "# using lstrip() to delete all trailing '-'\n",
    "print(\"String after stripping'-' is : \", end=\"\")\n",
    "print(str.lstrip('-'))\n",
    "  \n",
    "# using rstrip() to delete all leading '-'\n",
    "print(\"String after stripping'-' is : \", end=\"\")\n",
    "print(str.rstrip('-'))"
   ]
  },
  {
   "cell_type": "code",
   "execution_count": null,
   "id": "3c51dbe9",
   "metadata": {},
   "outputs": [],
   "source": []
  }
 ],
 "metadata": {
  "kernelspec": {
   "display_name": "Python 3 (ipykernel)",
   "language": "python",
   "name": "python3"
  },
  "language_info": {
   "codemirror_mode": {
    "name": "ipython",
    "version": 3
   },
   "file_extension": ".py",
   "mimetype": "text/x-python",
   "name": "python",
   "nbconvert_exporter": "python",
   "pygments_lexer": "ipython3",
   "version": "3.9.7"
  }
 },
 "nbformat": 4,
 "nbformat_minor": 5
}
