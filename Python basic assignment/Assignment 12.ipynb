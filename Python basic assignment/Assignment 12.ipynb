{
 "cells": [
  {
   "cell_type": "markdown",
   "id": "8af69a36",
   "metadata": {},
   "source": [
    "1. In what modes should the PdfFileReader() and PdfFileWriter() File objects will be opened?"
   ]
  },
  {
   "cell_type": "code",
   "execution_count": null,
   "id": "add2673a",
   "metadata": {},
   "outputs": [],
   "source": [
    "# Ans: For PdfFileReader() file objects should be opened in rb -> read binary mode, \n",
    "# For PdfFileWriter() file objects should be opened in wb -> write binary mode."
   ]
  },
  {
   "cell_type": "markdown",
   "id": "ae18ea54",
   "metadata": {},
   "source": [
    "2. From a PdfFileReader object, how do you get a Page object for page 5?"
   ]
  },
  {
   "cell_type": "code",
   "execution_count": 7,
   "id": "a7fc5de8",
   "metadata": {},
   "outputs": [],
   "source": [
    "# Ans: PdfFileReader class provides a method called getPage(page_no) to get a page object."
   ]
  },
  {
   "cell_type": "code",
   "execution_count": 5,
   "id": "e4fa43a2",
   "metadata": {},
   "outputs": [
    {
     "name": "stdout",
     "output_type": "stream",
     "text": [
      "Collecting pypdf2Note: you may need to restart the kernel to use updated packages.\n",
      "  Downloading PyPDF2-1.28.2-py3-none-any.whl (86 kB)\n",
      "Installing collected packages: pypdf2\n",
      "Successfully installed pypdf2-1.28.2\n",
      "\n"
     ]
    }
   ],
   "source": [
    "pip install pyPDF2"
   ]
  },
  {
   "cell_type": "code",
   "execution_count": null,
   "id": "45ee69f3",
   "metadata": {},
   "outputs": [],
   "source": [
    "from PyPDF2 import PdfFileReader\n",
    "pdf_reader = PdfFileReader(file_path)\n",
    "for page in pdf_reader.getNumPages():\n",
    "    pdf_reader.getPage(page)"
   ]
  },
  {
   "cell_type": "markdown",
   "id": "641fb5b7",
   "metadata": {},
   "source": [
    "3. What PdfFileReader variable stores the number of pages in the PDF document?"
   ]
  },
  {
   "cell_type": "code",
   "execution_count": null,
   "id": "ae989543",
   "metadata": {},
   "outputs": [],
   "source": [
    "# Ans: getNumPages() method of PdfFileReader class stores the no pages in a PDF document\n",
    "\n",
    "#Example Code:\n",
    "from PyPDF2 import PdfFileReader\n",
    "pdf_reader = PdfFileReader(file_path)\n",
    "print(pdf_reader.getNumPages())         # Prints the no of pages in a input document"
   ]
  },
  {
   "cell_type": "markdown",
   "id": "ff47d12c",
   "metadata": {},
   "source": [
    "4. If a PdfFileReader object’s PDF is encrypted with the password swordfish, what must you do before you can obtain Page objects from it?\n"
   ]
  },
  {
   "cell_type": "code",
   "execution_count": null,
   "id": "e8b85cf0",
   "metadata": {},
   "outputs": [],
   "source": [
    "# Ans: If a PdfFileReader object’s PDF is encrypted with the password swordfish and you're not aware of it. \n",
    "# First read the Pdf using the PdfFileReader Class. PdfFileReader class provides a attribute called isEncrypted to check whether a pdf is encrypted or not. the method returns true if a pdf is encrypted and vice versa.\n",
    "# If pdf is encrypted use the decrypt() method provided by PdfFileReader class first then try to read the contents/pages of the pdf, \n",
    "# else PyPDF2 will raise the following error PyPDF2.utils.PdfReadError: file has not been decrypted"
   ]
  },
  {
   "cell_type": "code",
   "execution_count": null,
   "id": "436d52e8",
   "metadata": {},
   "outputs": [],
   "source": [
    "from PyPDF2 import PdfFileReader\n",
    "pdf_reader = PdfFileReader(file_path)\n",
    "if pdf_reader.isEncrypted: # to check if the pdf is encrypted or not\n",
    "    pdf_reader.decrypt(\"swordfish\")\n",
    "for page in pdf_reader.pages:\n",
    "    print(page.extractText()) # to print the text data of a page from pdf"
   ]
  },
  {
   "cell_type": "markdown",
   "id": "fc27cea5",
   "metadata": {},
   "source": [
    "5. What methods do you use to rotate a page?"
   ]
  },
  {
   "cell_type": "code",
   "execution_count": 10,
   "id": "01aca651",
   "metadata": {},
   "outputs": [],
   "source": [
    "# Ans: PyPDF2 Package provides 2 methods for rotate a page:\n",
    "\n",
    "# rotateClockWise() -> For Clockwise rotation\n",
    "# rotateCounterClockWise() -> For Counter Clockwise rotation\n",
    "## The PyPDF2 package only allows you to rotate a page in increments of 90 degrees. You will receive an AssertionError otherwise."
   ]
  },
  {
   "cell_type": "markdown",
   "id": "f544ae61",
   "metadata": {},
   "source": [
    "6. What is the difference between a Run object and a Paragraph object?"
   ]
  },
  {
   "cell_type": "code",
   "execution_count": null,
   "id": "25e6d1e6",
   "metadata": {},
   "outputs": [],
   "source": [
    "# Ans: The structure of a document is represented by three different data types in python-Docx. At the highest level, a Document object represents the entire document. \n",
    "# The Document object contains a list of Paragraph objects for the paragraphs in the document. (A new paragraph begins whenever the user presses ENTER or RETURN while typing in a Word document.) \n",
    "# Each of these Paragraph objects contains a list of one or more Run objects.\n",
    "\n",
    "# The text in a Word document is more than just a string. It has font, size, color, and other styling information associated with it. \n",
    "# A style in Word is a collection of these attributes. A Run object is a contiguous run of text with the same style. \n",
    "# A new Run object is needed whenever the text style changes."
   ]
  },
  {
   "cell_type": "markdown",
   "id": "d511e013",
   "metadata": {},
   "source": [
    "7. How do you obtain a list of Paragraph objects for a Document object that’s stored in a variable named doc?"
   ]
  },
  {
   "cell_type": "code",
   "execution_count": null,
   "id": "d80947d9",
   "metadata": {},
   "outputs": [],
   "source": [
    "# Ans: Example Program\n",
    "\n",
    "from docx import Document\n",
    "doc = Document(\"sample_file.docx\") # Path of the Docx file\n",
    "print(doc.paragraphs) # Prints the list of Paragraph objects for a Document\n",
    "for paragraph in doc.paragraphs:\n",
    "    print(paragraph.text) # Prints the text in the paragraph"
   ]
  },
  {
   "cell_type": "code",
   "execution_count": 12,
   "id": "432601fc",
   "metadata": {},
   "outputs": [
    {
     "name": "stdout",
     "output_type": "stream",
     "text": [
      "Collecting docx\n",
      "  Downloading docx-0.2.4.tar.gz (54 kB)\n",
      "Requirement already satisfied: lxml in c:\\users\\amitm\\anaconda3\\lib\\site-packages (from docx) (4.6.3)\n",
      "Requirement already satisfied: Pillow>=2.0 in c:\\users\\amitm\\anaconda3\\lib\\site-packages (from docx) (8.4.0)\n",
      "Building wheels for collected packages: docx\n",
      "  Building wheel for docx (setup.py): started\n",
      "  Building wheel for docx (setup.py): finished with status 'done'\n",
      "  Created wheel for docx: filename=docx-0.2.4-py3-none-any.whl size=53924 sha256=49d3d5d96a62ad163edf78334fe06344c2b6f8793e18da311676da97fe641561\n",
      "  Stored in directory: c:\\users\\amitm\\appdata\\local\\pip\\cache\\wheels\\0f\\8e\\9d\\7003eed35a84cf960876aae6bdf60d02041ddfcca66eceee94\n",
      "Successfully built docx\n",
      "Installing collected packages: docx\n",
      "Successfully installed docx-0.2.4\n",
      "Note: you may need to restart the kernel to use updated packages.\n"
     ]
    }
   ],
   "source": [
    "pip install docx"
   ]
  },
  {
   "cell_type": "markdown",
   "id": "23c2071a",
   "metadata": {},
   "source": [
    "8. What type of object has bold, underline, italic, strike, and outline variables?"
   ]
  },
  {
   "cell_type": "code",
   "execution_count": null,
   "id": "5121563f",
   "metadata": {},
   "outputs": [],
   "source": [
    "# Ans: Run object has bold, underline, italic, strike, and outline variables. The text in a Word document is more than just a string. \n",
    "# It has font, size, color, and other styling information associated with it.\n",
    "\n",
    "# A style in Word is a collection of these attributes. A Run object is a contiguous run of text with the same style.\n",
    "# A new Run object is needed whenever the text style changes."
   ]
  },
  {
   "cell_type": "markdown",
   "id": "9d8b6832",
   "metadata": {},
   "source": [
    "9. What is the difference between False, True, and None for the bold variable?"
   ]
  },
  {
   "cell_type": "code",
   "execution_count": null,
   "id": "b0eec913",
   "metadata": {},
   "outputs": [],
   "source": [
    "# Ans: \n",
    "bold = True  # Style Set to Bold\n",
    "bold = False # Style Not Set to Bold\n",
    "bold = None # Style is Not Applicable\n"
   ]
  },
  {
   "cell_type": "markdown",
   "id": "a692205b",
   "metadata": {},
   "source": [
    "10. How do you create a Document object for a new Word document?"
   ]
  },
  {
   "cell_type": "code",
   "execution_count": null,
   "id": "52f60c34",
   "metadata": {},
   "outputs": [],
   "source": [
    "# Ans: \n",
    "import docx\n",
    "doc = docx.Document()\n",
    "doc.add_heading('Heading for the document', 0)\n",
    "doc_para = doc.add_paragraph('Your paragraph goes here, ')\n",
    "doc_para.add_run('hey there, bold here').bold = True\n",
    "doc_para.add_run(', and ')\n",
    "doc_para.add_run('these words are italic').italic = True\n",
    "\n",
    "# add a page break to start a new page\n",
    "doc.add_page_break()\n",
    "\n",
    "# add a heading of level 2\n",
    "doc.add_heading('Heading level 2', 2)\n",
    "\n",
    "# pictures can also be added to our word document\n",
    "doc.add_picture('path_to_picture')\n",
    "\n",
    "# now save the document to a location\n",
    "doc.save('path_to_document')\n"
   ]
  },
  {
   "cell_type": "markdown",
   "id": "47fa204c",
   "metadata": {},
   "source": [
    "11. How do you add a paragraph with the text 'Hello, there!' to a Document object stored in a variable named doc?"
   ]
  },
  {
   "cell_type": "code",
   "execution_count": null,
   "id": "6cabfa83",
   "metadata": {},
   "outputs": [],
   "source": [
    "# Ans: \n",
    "\n",
    "from docx import Document\n",
    "doc = Document()\n",
    "doc.add_paragraph('Hello, there!')\n",
    "doc.save('hello.docx')"
   ]
  },
  {
   "cell_type": "markdown",
   "id": "8aef7dd3",
   "metadata": {},
   "source": [
    "12. What integers represent the levels of headings available in Word documents?"
   ]
  },
  {
   "cell_type": "code",
   "execution_count": null,
   "id": "bf6f0187",
   "metadata": {},
   "outputs": [],
   "source": [
    "# Ans: When the level is set to 0, the string is printed as the title of the document. For all other values it prints a heading. The size of heading decreases as the level increases. \n",
    "# If no level is set, by default its value is always 1.\n",
    "\n",
    "# Approach\n",
    "# Import module\n",
    "# Declare docx object\n",
    "# Use add_heading() with appropriate parameters to add heading\n",
    "# Save doc file."
   ]
  },
  {
   "cell_type": "code",
   "execution_count": null,
   "id": "9db60ad2",
   "metadata": {},
   "outputs": [],
   "source": [
    "import docx\n",
    "  \n",
    "# Create an instance of a word document\n",
    "doc = docx.Document()\n",
    "  \n",
    "# Add a heading of level 0 (Also called Title)\n",
    "doc.add_heading('Title for the document', 0)\n",
    "  \n",
    "doc.add_heading('Heading level 1', 1)\n",
    "  \n",
    "doc.add_heading('Heading level 2', 2)\n",
    "  \n",
    "doc.add_heading('Heading level 3', 3)\n",
    "  \n",
    "doc.add_heading('Heading level 4', 4)\n",
    "  \n",
    "doc.add_heading('Heading level 5', 5)\n",
    "  \n",
    "doc.add_heading('Heading level 6', 6)\n",
    "  \n",
    "doc.add_heading('Heading level 7', 7)\n",
    "\n",
    "doc.add_heading('Heading level 8', 8)\n",
    "\n",
    "doc.add_heading('Heading level 9', 9)\n",
    "  \n",
    "# Now save the document to a location\n",
    "doc.save('file.docx')"
   ]
  }
 ],
 "metadata": {
  "kernelspec": {
   "display_name": "Python 3 (ipykernel)",
   "language": "python",
   "name": "python3"
  },
  "language_info": {
   "codemirror_mode": {
    "name": "ipython",
    "version": 3
   },
   "file_extension": ".py",
   "mimetype": "text/x-python",
   "name": "python",
   "nbconvert_exporter": "python",
   "pygments_lexer": "ipython3",
   "version": "3.9.7"
  }
 },
 "nbformat": 4,
 "nbformat_minor": 5
}
