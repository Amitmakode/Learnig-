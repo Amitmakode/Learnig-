{
 "cells": [
  {
   "cell_type": "markdown",
   "id": "0a4a5f0f",
   "metadata": {},
   "source": [
    "1. Add the current date to the text file today.txt as a string."
   ]
  },
  {
   "cell_type": "code",
   "execution_count": 1,
   "id": "aafdf66b",
   "metadata": {},
   "outputs": [],
   "source": [
    "# Ans:\n",
    "import datetime\n",
    "# Code to Add current date to the today.txt file\n",
    "file = open('today.txt','w')\n",
    "file.write(datetime.datetime.now().strftime(\"%d-%m-%Y\"))\n",
    "file.close()\n"
   ]
  },
  {
   "cell_type": "code",
   "execution_count": 2,
   "id": "623f4215",
   "metadata": {},
   "outputs": [
    {
     "name": "stdout",
     "output_type": "stream",
     "text": [
      "25-05-2022\n"
     ]
    }
   ],
   "source": [
    "# Code to Read current date from today.txt file\n",
    "file = open('today.txt','r')\n",
    "print(file.read())\n",
    "file.close()"
   ]
  },
  {
   "cell_type": "markdown",
   "id": "99661baa",
   "metadata": {},
   "source": [
    "2. Read the text file today.txt into the string today_string"
   ]
  },
  {
   "cell_type": "code",
   "execution_count": 3,
   "id": "608d2a8d",
   "metadata": {},
   "outputs": [
    {
     "name": "stdout",
     "output_type": "stream",
     "text": [
      "25-05-2022\n"
     ]
    }
   ],
   "source": [
    "# Ans:\n",
    "file = open('today.txt','r')\n",
    "today_string = file.read()\n",
    "print(today_string)"
   ]
  },
  {
   "cell_type": "markdown",
   "id": "d897c7e6",
   "metadata": {},
   "source": [
    "3. Parse the date from today_string."
   ]
  },
  {
   "cell_type": "code",
   "execution_count": 4,
   "id": "a18a79cf",
   "metadata": {},
   "outputs": [
    {
     "name": "stdout",
     "output_type": "stream",
     "text": [
      "2022-05-25 00:00:00\n"
     ]
    }
   ],
   "source": [
    "# Ans:\n",
    "from datetime import datetime\n",
    "parsed_data = datetime.strptime(today_string, '%d-%m-%Y')\n",
    "print(parsed_data)"
   ]
  },
  {
   "cell_type": "markdown",
   "id": "bbc99ec8",
   "metadata": {},
   "source": [
    "4. List the files in your current directory"
   ]
  },
  {
   "cell_type": "code",
   "execution_count": 8,
   "id": "d7d57785",
   "metadata": {},
   "outputs": [
    {
     "name": "stdout",
     "output_type": "stream",
     "text": [
      "Amit.jpg\n",
      "application_log.txt\n",
      "Assignment 01 .ipynb\n",
      "Assignment 02.ipynb\n",
      "Assignment 03.ipynb\n",
      "Assignment 04.ipynb\n",
      "Assignment 05.ipynb\n",
      "Assignment 06.ipynb\n",
      "Assignment 07.ipynb\n",
      "Assignment 08.ipynb\n",
      "Assignment 09.ipynb\n",
      "Assignment 10.ipynb\n",
      "Assignment 11.ipynb\n",
      "Assignment 12.ipynb\n",
      "Assignment 13.ipynb\n",
      "Assignment 14.ipynb\n",
      "Assignment 15.ipynb\n",
      "Assignment 16.ipynb\n",
      "Assignment 17.ipynb\n",
      "Assignment 18.ipynb\n",
      "Assignment 19.ipynb\n",
      "Assignment 20.ipynb\n",
      "Assignment 21.ipynb\n",
      "books.csv\n",
      "books.db\n",
      "Classroom_records.csv\n",
      "Pic.jpg\n",
      "RPO.csv\n",
      "test.txt\n",
      "Test_image.png\n",
      "today.txt\n",
      "transparent_image.png\n",
      "university_records.csv\n",
      "zoo.py\n",
      "Assignment 01 -checkpoint.ipynb\n",
      "Assignment 02-checkpoint.ipynb\n",
      "Assignment 03-checkpoint.ipynb\n",
      "Assignment 04-checkpoint.ipynb\n",
      "Assignment 05-checkpoint.ipynb\n",
      "Assignment 06-checkpoint.ipynb\n",
      "Assignment 07-checkpoint.ipynb\n",
      "Assignment 08-checkpoint.ipynb\n",
      "Assignment 09-checkpoint.ipynb\n",
      "Assignment 10-checkpoint.ipynb\n",
      "Assignment 11-checkpoint.ipynb\n",
      "Assignment 12-checkpoint.ipynb\n",
      "Assignment 13-checkpoint.ipynb\n",
      "Assignment 14-checkpoint.ipynb\n",
      "Assignment 15-checkpoint.ipynb\n",
      "Assignment 16-checkpoint.ipynb\n",
      "Assignment 17-checkpoint.ipynb\n",
      "Assignment 18-checkpoint.ipynb\n",
      "Assignment 19-checkpoint.ipynb\n",
      "Assignment 20-checkpoint.ipynb\n",
      "Assignment 21-checkpoint.ipynb\n",
      "zoo.cpython-39.pyc\n"
     ]
    }
   ],
   "source": [
    "# Ans:\n",
    "import os\n",
    "for folders,subfolders, files in os.walk(os.getcwd()):\n",
    "    for file in files:\n",
    "        print(file)"
   ]
  },
  {
   "cell_type": "markdown",
   "id": "902ea9ae",
   "metadata": {},
   "source": [
    "5. Create a list of all of the files in your parent directory (minimum five files should be available)."
   ]
  },
  {
   "cell_type": "code",
   "execution_count": 9,
   "id": "39049b3c",
   "metadata": {},
   "outputs": [
    {
     "data": {
      "text/plain": [
       "['.ipynb_checkpoints',\n",
       " 'Amit.jpg',\n",
       " 'application_log.txt',\n",
       " 'Assignment 01 .ipynb',\n",
       " 'Assignment 02.ipynb',\n",
       " 'Assignment 03.ipynb',\n",
       " 'Assignment 04.ipynb',\n",
       " 'Assignment 05.ipynb',\n",
       " 'Assignment 06.ipynb',\n",
       " 'Assignment 07.ipynb',\n",
       " 'Assignment 08.ipynb',\n",
       " 'Assignment 09.ipynb',\n",
       " 'Assignment 10.ipynb',\n",
       " 'Assignment 11.ipynb',\n",
       " 'Assignment 12.ipynb',\n",
       " 'Assignment 13.ipynb',\n",
       " 'Assignment 14.ipynb',\n",
       " 'Assignment 15.ipynb',\n",
       " 'Assignment 16.ipynb',\n",
       " 'Assignment 17.ipynb',\n",
       " 'Assignment 18.ipynb',\n",
       " 'Assignment 19.ipynb',\n",
       " 'Assignment 20.ipynb',\n",
       " 'Assignment 21.ipynb',\n",
       " 'books.csv',\n",
       " 'books.db',\n",
       " 'Classroom_records.csv',\n",
       " 'Pic.jpg',\n",
       " 'RPO.csv',\n",
       " 'test.txt',\n",
       " 'Test_image.png',\n",
       " 'today.txt',\n",
       " 'transparent_image.png',\n",
       " 'university_records.csv',\n",
       " 'zoo.py',\n",
       " '__pycache__']"
      ]
     },
     "execution_count": 9,
     "metadata": {},
     "output_type": "execute_result"
    }
   ],
   "source": [
    "# Ans:\n",
    "import os \n",
    "os.listdir()"
   ]
  },
  {
   "cell_type": "markdown",
   "id": "2ae930d1",
   "metadata": {},
   "source": [
    "6. Use multiprocessing to create three separate processes. Make each one wait a random number of seconds between one and five, print the current time, and then exit."
   ]
  },
  {
   "cell_type": "code",
   "execution_count": 11,
   "id": "e19fd71a",
   "metadata": {},
   "outputs": [],
   "source": [
    "# Ans:\n",
    "import multiprocessing\n",
    "import time \n",
    "import random\n",
    "import datetime\n",
    "\n",
    "def procOne():\n",
    "    print(f'Proc_one_Starttime -> {datetime.datetime.now()}')\n",
    "    time.sleep(random.randint(1,5))\n",
    "    print(f'Proc_one_Endtime -> {datetime.datetime.now()}')\n",
    "    \n",
    "def procTwo():\n",
    "    print(f'Proc_two_Starttime -> {datetime.datetime.now()}')\n",
    "    time.sleep(random.randint(1,5))\n",
    "    print(f'Proc_two_Endtime -> {datetime.datetime.now()}')\n",
    "\n",
    "def procThree():\n",
    "    print(f'Proc_two_Starttime -> {datetime.datetime.now()}')\n",
    "    time.sleep(random.randint(1,5))\n",
    "    print(f'Proc_two_Endtime -> {datetime.datetime.now()}')\n",
    "    \n",
    "if __name__ == \"__main__\":    \n",
    "    p1 = multiprocessing.Process(target=procOne)\n",
    "    p2 = multiprocessing.Process(target=procTwo)\n",
    "    p3 = multiprocessing.Process(target=procThree)\n",
    "\n",
    "    p1.start()\n",
    "    p2.start()\n",
    "    p3.start()\n",
    "\n",
    "    p1.join()\n",
    "    p2.join()\n",
    "    p3.join()"
   ]
  },
  {
   "cell_type": "code",
   "execution_count": null,
   "id": "3de56aa5",
   "metadata": {},
   "outputs": [],
   "source": [
    "#  Due to some unknown reason. Did not print any results in the jupyter cell. so i copied the code to from pycharm file.\n",
    "(base) C:\\Users\\AmitM\\Assignmen\\>python es_poc.py\n",
    "Proc_two_Starttime -> 2022-05-25 12:45:07.783698\n",
    "Proc_two_Starttime -> 2022-05-25 12:45:09.783856\n",
    "Proc_two_Starttime -> 2022-05-25 12:45:09.783943        \n",
    "Proc_one_Endtime -> 2022-05-25 12:45:08.721248\n",
    "Proc_two_Endtime -> 2022-05-25 12:45:10.721348\n",
    "Proc_two_Endtime -> 2022-05-25 12:45:10.783850"
   ]
  },
  {
   "cell_type": "markdown",
   "id": "3d01e651",
   "metadata": {},
   "source": [
    "7. Create a date object of your day of birth."
   ]
  },
  {
   "cell_type": "code",
   "execution_count": 12,
   "id": "59c37e3a",
   "metadata": {},
   "outputs": [
    {
     "name": "stdout",
     "output_type": "stream",
     "text": [
      "1993-02-05 00:00:00 <class 'datetime.datetime'>\n"
     ]
    }
   ],
   "source": [
    "# Ans:\n",
    "from datetime import datetime\n",
    "dob = datetime.strptime('05/02/1993','%d/%m/%Y')\n",
    "print(dob, type(dob))"
   ]
  },
  {
   "cell_type": "markdown",
   "id": "7521d381",
   "metadata": {},
   "source": [
    "8. What day of the week was your day of birth?"
   ]
  },
  {
   "cell_type": "code",
   "execution_count": 13,
   "id": "d5f26c09",
   "metadata": {},
   "outputs": [
    {
     "data": {
      "text/plain": [
       "'Friday'"
      ]
     },
     "execution_count": 13,
     "metadata": {},
     "output_type": "execute_result"
    }
   ],
   "source": [
    "# Ans:\n",
    "from datetime import datetime\n",
    "dob = datetime(1993,2,5)\n",
    "dob.strftime(\"%A\")"
   ]
  },
  {
   "cell_type": "markdown",
   "id": "9b23a622",
   "metadata": {},
   "source": [
    "9. When will you be (or when were you) 10,000 days old?"
   ]
  },
  {
   "cell_type": "code",
   "execution_count": 20,
   "id": "1c76b1c6",
   "metadata": {},
   "outputs": [
    {
     "data": {
      "text/plain": [
       "datetime.datetime(1965, 9, 20, 0, 0)"
      ]
     },
     "execution_count": 20,
     "metadata": {},
     "output_type": "execute_result"
    }
   ],
   "source": [
    "# Ans:\n",
    "from datetime import datetime, timedelta\n",
    "dob = datetime.strptime(\"5/2/1993\",'%d/%m/%Y')\n",
    "ten_k_date = dob-timedelta(10000)\n",
    "ten_k_date"
   ]
  }
 ],
 "metadata": {
  "kernelspec": {
   "display_name": "Python 3 (ipykernel)",
   "language": "python",
   "name": "python3"
  },
  "language_info": {
   "codemirror_mode": {
    "name": "ipython",
    "version": 3
   },
   "file_extension": ".py",
   "mimetype": "text/x-python",
   "name": "python",
   "nbconvert_exporter": "python",
   "pygments_lexer": "ipython3",
   "version": "3.9.7"
  }
 },
 "nbformat": 4,
 "nbformat_minor": 5
}
