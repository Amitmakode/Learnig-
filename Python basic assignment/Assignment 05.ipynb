{
 "cells": [
  {
   "cell_type": "markdown",
   "id": "a6d8e99d",
   "metadata": {},
   "source": [
    "1. What does an empty dictionary's code look like?"
   ]
  },
  {
   "cell_type": "code",
   "execution_count": 16,
   "id": "2e229c06",
   "metadata": {},
   "outputs": [
    {
     "name": "stdout",
     "output_type": "stream",
     "text": [
      "<class 'dict'>\n",
      "<class 'dict'>\n"
     ]
    }
   ],
   "source": [
    "#Ans: An empty dictionary is often represented by two empty curly brackets\n",
    "d1= {} \n",
    "d2 = dict()\n",
    "print(type(d2))\n",
    "print(type(d1))"
   ]
  },
  {
   "cell_type": "markdown",
   "id": "27a6dd6d",
   "metadata": {},
   "source": [
    "2. What is the value of a dictionary value with the key 'foo' and the value 42?"
   ]
  },
  {
   "cell_type": "code",
   "execution_count": 19,
   "id": "fc5944db",
   "metadata": {},
   "outputs": [
    {
     "name": "stdout",
     "output_type": "stream",
     "text": [
      "{'foo': 42}\n"
     ]
    }
   ],
   "source": [
    "#Ans\n",
    "\n",
    "dict1= {\"foo\":42}\n",
    "print(dict1)"
   ]
  },
  {
   "cell_type": "markdown",
   "id": "85eb2bd3",
   "metadata": {},
   "source": [
    "3. What is the most significant distinction between a dictionary and a list?"
   ]
  },
  {
   "cell_type": "code",
   "execution_count": 20,
   "id": "f922f407",
   "metadata": {},
   "outputs": [],
   "source": [
    "#Ans: Dictionaries are represented by {} where as listed are represented by []\n",
    "#The Items stored in a dictionary are Unordered , while the items in a list are ordered\n",
    "#The List has direct value store and dict require a key: value pair.\n"
   ]
  },
  {
   "cell_type": "markdown",
   "id": "b0fcf63a",
   "metadata": {},
   "source": [
    "4. What happens if you try to access spam['foo'] if spam is {'bar': 100}?"
   ]
  },
  {
   "cell_type": "code",
   "execution_count": 23,
   "id": "255239ce",
   "metadata": {},
   "outputs": [
    {
     "ename": "KeyError",
     "evalue": "'foo'",
     "output_type": "error",
     "traceback": [
      "\u001b[1;31m---------------------------------------------------------------------------\u001b[0m",
      "\u001b[1;31mKeyError\u001b[0m                                  Traceback (most recent call last)",
      "\u001b[1;32m~\\AppData\\Local\\Temp/ipykernel_10520/3729216582.py\u001b[0m in \u001b[0;36m<module>\u001b[1;34m\u001b[0m\n\u001b[0;32m      1\u001b[0m \u001b[1;31m#Ans: Will get a keyError KeyError: 'foo'\u001b[0m\u001b[1;33m\u001b[0m\u001b[1;33m\u001b[0m\u001b[0m\n\u001b[0;32m      2\u001b[0m \u001b[0mspam\u001b[0m \u001b[1;33m=\u001b[0m\u001b[1;33m{\u001b[0m\u001b[1;34m'bar'\u001b[0m\u001b[1;33m:\u001b[0m\u001b[1;36m100\u001b[0m\u001b[1;33m}\u001b[0m\u001b[1;33m\u001b[0m\u001b[1;33m\u001b[0m\u001b[0m\n\u001b[1;32m----> 3\u001b[1;33m \u001b[0mspam\u001b[0m\u001b[1;33m[\u001b[0m\u001b[1;34m'foo'\u001b[0m\u001b[1;33m]\u001b[0m\u001b[1;33m\u001b[0m\u001b[1;33m\u001b[0m\u001b[0m\n\u001b[0m",
      "\u001b[1;31mKeyError\u001b[0m: 'foo'"
     ]
    }
   ],
   "source": [
    "#Ans: Will get a keyError KeyError: 'foo'\n",
    "spam ={'bar':100}\n",
    "spam['foo']"
   ]
  },
  {
   "cell_type": "markdown",
   "id": "87d5e2e3",
   "metadata": {},
   "source": [
    "5. If a dictionary is stored in spam, what is the difference between the expressions 'cat' in spam and 'cat' in spam.keys()?"
   ]
  },
  {
   "cell_type": "code",
   "execution_count": 24,
   "id": "853827fe",
   "metadata": {},
   "outputs": [],
   "source": [
    "#Ans: There is no difference. The operator checks whether a value exits as a key in the dictionary or not."
   ]
  },
  {
   "cell_type": "markdown",
   "id": "334523a2",
   "metadata": {},
   "source": [
    "6. If a dictionary is stored in spam, what is the difference between the expressions 'cat' in spam and 'cat' in spam.values()?"
   ]
  },
  {
   "cell_type": "code",
   "execution_count": 25,
   "id": "c619b997",
   "metadata": {},
   "outputs": [],
   "source": [
    "#Ans:'cat' in spam checks whether there is a 'cat' key in the dictionary, while 'cat' in spam.values() checks whether there is a value 'cat' for one of the keys in spam."
   ]
  },
  {
   "cell_type": "markdown",
   "id": "b0b95307",
   "metadata": {},
   "source": [
    "7. What is a shortcut for the following code?\n",
    "if 'color' not in spam:\n",
    "spam['color'] = 'black'\n"
   ]
  },
  {
   "cell_type": "code",
   "execution_count": 34,
   "id": "269e0e53",
   "metadata": {},
   "outputs": [
    {
     "data": {
      "text/plain": [
       "'black'"
      ]
     },
     "execution_count": 34,
     "metadata": {},
     "output_type": "execute_result"
    }
   ],
   "source": [
    "#Ans: \n",
    "\n",
    "spam.setdefault(\"color\",\"black\")    "
   ]
  },
  {
   "cell_type": "markdown",
   "id": "77cd3673",
   "metadata": {},
   "source": [
    "8. How do you \"pretty print\" dictionary values using which module and function?"
   ]
  },
  {
   "cell_type": "code",
   "execution_count": 52,
   "id": "8427c6df",
   "metadata": {},
   "outputs": [
    {
     "name": "stdout",
     "output_type": "stream",
     "text": [
      "[{'Age': '23',\n",
      "  'Name': 'Anil',\n",
      "  'Residence': {'City': 'Mumbai', 'Country': 'India'}},\n",
      " {'Age': '44',\n",
      "  'Name': 'Jacki',\n",
      "  'Residence': {'City': 'colambo', 'Country': 'Shrilanka'}},\n",
      " {'Age': '29',\n",
      "  'Name': 'Ravi',\n",
      "  'Residence': {'City': 'bejing', 'Country': 'china'}},\n",
      " {'Age': '35',\n",
      "  'Name': 'Lakhan',\n",
      "  'Residence': {'City': 'Kathmandu', 'Country': 'Nepal'}}]\n",
      "------------------------------------------------------------\n"
     ]
    }
   ],
   "source": [
    "#Ans: we can pretty print a dictionary using three functions\n",
    "\n",
    "#by using pprint() function of pprint module\n",
    "#Note: pprint() function doesnot prettify nested dictionaries\n",
    "#by using dumps() method of json module\n",
    "#by using dumps() method of yaml module\n",
    "newdict = [\n",
    "  {'Name': 'Anil', 'Age': '23', 'Residence': {'Country':'India', 'City': 'Mumbai'}},\n",
    "  {'Name': 'Jacki', 'Age': '44', 'Residence': {'Country':'Shrilanka', 'City': 'colambo'}},\n",
    "  {'Name': 'Ravi', 'Age': '29', 'Residence': {'Country':'china', 'City': 'bejing'}},\n",
    "  {'Name': 'Lakhan', 'Age': '35', 'Residence': {'Country':'Nepal', 'City': 'Kathmandu'}}\n",
    "]\n",
    "\n",
    "\n",
    "import pprint\n",
    "pprint.pprint(newdict)\n",
    "print('-'*60)\n"
   ]
  },
  {
   "cell_type": "code",
   "execution_count": 53,
   "id": "7958b636",
   "metadata": {},
   "outputs": [
    {
     "name": "stdout",
     "output_type": "stream",
     "text": [
      "Printing using dumps() method\n",
      " [\n",
      "    {\n",
      "        \"Name\": \"Anil\",\n",
      "        \"Age\": \"23\",\n",
      "        \"Residence\": {\n",
      "            \"Country\": \"India\",\n",
      "            \"City\": \"Mumbai\"\n",
      "        }\n",
      "    },\n",
      "    {\n",
      "        \"Name\": \"Jacki\",\n",
      "        \"Age\": \"44\",\n",
      "        \"Residence\": {\n",
      "            \"Country\": \"Shrilanka\",\n",
      "            \"City\": \"colambo\"\n",
      "        }\n",
      "    },\n",
      "    {\n",
      "        \"Name\": \"Ravi\",\n",
      "        \"Age\": \"29\",\n",
      "        \"Residence\": {\n",
      "            \"Country\": \"china\",\n",
      "            \"City\": \"bejing\"\n",
      "        }\n",
      "    },\n",
      "    {\n",
      "        \"Name\": \"Lakhan\",\n",
      "        \"Age\": \"35\",\n",
      "        \"Residence\": {\n",
      "            \"Country\": \"Nepal\",\n",
      "            \"City\": \"Kathmandu\"\n",
      "        }\n",
      "    }\n",
      "]\n",
      "------------------------------------------------------------\n"
     ]
    }
   ],
   "source": [
    "import json\n",
    "dump = json.dumps(newdict, indent=4)\n",
    "print('Print using dumps() method\\n', dump)\n",
    "print('-'*60)"
   ]
  },
  {
   "cell_type": "code",
   "execution_count": 56,
   "id": "f2b6effc",
   "metadata": {},
   "outputs": [
    {
     "name": "stdout",
     "output_type": "stream",
     "text": [
      "Print using dump() method\n",
      " - Age: '23'\n",
      "  Name: Anil\n",
      "  Residence:\n",
      "    City: Mumbai\n",
      "    Country: India\n",
      "- Age: '44'\n",
      "  Name: Jacki\n",
      "  Residence:\n",
      "    City: colambo\n",
      "    Country: Shrilanka\n",
      "- Age: '29'\n",
      "  Name: Ravi\n",
      "  Residence:\n",
      "    City: bejing\n",
      "    Country: china\n",
      "- Age: '35'\n",
      "  Name: Lakhan\n",
      "  Residence:\n",
      "    City: Kathmandu\n",
      "    Country: Nepal\n",
      "\n"
     ]
    }
   ],
   "source": [
    "import yaml\n",
    "dump = yaml.dump(newdict)\n",
    "print('Print using dump() method\\n', dump)"
   ]
  },
  {
   "cell_type": "code",
   "execution_count": null,
   "id": "e5ae2104",
   "metadata": {},
   "outputs": [],
   "source": []
  }
 ],
 "metadata": {
  "kernelspec": {
   "display_name": "Python 3 (ipykernel)",
   "language": "python",
   "name": "python3"
  },
  "language_info": {
   "codemirror_mode": {
    "name": "ipython",
    "version": 3
   },
   "file_extension": ".py",
   "mimetype": "text/x-python",
   "name": "python",
   "nbconvert_exporter": "python",
   "pygments_lexer": "ipython3",
   "version": "3.9.7"
  }
 },
 "nbformat": 4,
 "nbformat_minor": 5
}
