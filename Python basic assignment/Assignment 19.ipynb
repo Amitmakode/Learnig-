{
 "cells": [
  {
   "cell_type": "markdown",
   "id": "6b1c6526",
   "metadata": {},
   "source": [
    "1. Make a class called Thing with no contents and print it. Then, create an object called example from this class and also print it. Are the printed values the same or different?"
   ]
  },
  {
   "cell_type": "code",
   "execution_count": 5,
   "id": "dd732d0c",
   "metadata": {},
   "outputs": [
    {
     "name": "stdout",
     "output_type": "stream",
     "text": [
      "<class '__main__.Thing'>\n",
      "<__main__.Thing object at 0x000000C673931AF0>\n"
     ]
    }
   ],
   "source": [
    "# Ans:\n",
    "class Thing:\n",
    "    pass\n",
    "print(Thing)\n",
    "\n",
    "example = Thing()\n",
    "print(example)"
   ]
  },
  {
   "cell_type": "markdown",
   "id": "b9d060be",
   "metadata": {},
   "source": [
    "2. Create a new class called Thing2 and add the value 'abc' to the letters class attribute. Letters should be printed."
   ]
  },
  {
   "cell_type": "code",
   "execution_count": 16,
   "id": "1af53ed2",
   "metadata": {},
   "outputs": [
    {
     "name": "stdout",
     "output_type": "stream",
     "text": [
      "abc\n"
     ]
    }
   ],
   "source": [
    "# Ans:\n",
    "class Thing2:\n",
    "    letters = 'abc'\n",
    "    print(Thing2.letters)\n"
   ]
  },
  {
   "cell_type": "markdown",
   "id": "040cd3f2",
   "metadata": {},
   "source": [
    "3. Make yet another class called, of course, Thing3. This time, assign the value 'xyz' to an instance (object) attribute called letters. Print letters. Do you need to make an object from the class to do this?"
   ]
  },
  {
   "cell_type": "code",
   "execution_count": 20,
   "id": "218170e6",
   "metadata": {},
   "outputs": [
    {
     "name": "stdout",
     "output_type": "stream",
     "text": [
      "xyz\n"
     ]
    }
   ],
   "source": [
    "# Ans: The first method __init__() is a special method, which is called class constructor or initialization method that Python calls when you create a new instance of this class.\n",
    "class Thing3:    \n",
    "    def __init__ (self):\n",
    "        self.letters = 'xyz'\n",
    "        \n",
    "try:        \n",
    "    print(Thing3.letters) # Will raise a syntax Error\n",
    "except:\n",
    "    my_thing = Thing3()\n",
    "    print(my_thing.letters)"
   ]
  },
  {
   "cell_type": "markdown",
   "id": "2284a54d",
   "metadata": {},
   "source": [
    "4. Create an Element class with the instance attributes name, symbol, and number. Create a class object with the values 'Hydrogen,' 'H,' and 1."
   ]
  },
  {
   "cell_type": "code",
   "execution_count": 28,
   "id": "64e5ad71",
   "metadata": {},
   "outputs": [],
   "source": [
    "# Ans:\n",
    "class Element:   \n",
    "    def __init__(obj, name, symbol, number):\n",
    "        obj.name = name\n",
    "        obj.symbol = symbol\n",
    "        obj.number = number\n",
    "\n",
    "my_elements = Element('Hydrogen','H',1)"
   ]
  },
  {
   "cell_type": "markdown",
   "id": "3650eb58",
   "metadata": {},
   "source": [
    "5. Make a dictionary with these keys and values: 'name': 'Hydrogen', 'symbol': 'H', 'number': 1. Then, create an object called hydrogen from class Element using this dictionary."
   ]
  },
  {
   "cell_type": "code",
   "execution_count": 32,
   "id": "0034f94b",
   "metadata": {},
   "outputs": [
    {
     "name": "stdout",
     "output_type": "stream",
     "text": [
      "{'name': 'Hydrogen', 'symbol': 'H', 'number': 1}\n",
      "Using Method #1 ->\tHydrogen\tH\t1\n"
     ]
    }
   ],
   "source": [
    "# Ans:\n",
    "chem_dict = {'name':'Hydrogen','symbol':'H','number':1}\n",
    "print(chem_dict)\n",
    "\n",
    "hydrogen = Element(*chem_dict.values())\n",
    "print('Using Method #1 ->',hydrogen.name,hydrogen.symbol,hydrogen.number, sep='\\t')\n"
   ]
  },
  {
   "cell_type": "markdown",
   "id": "90801bf1",
   "metadata": {},
   "source": [
    "6. For the Element class, define a method called dump() that prints the values of the object’s attributes (name, symbol, and number). Create the hydrogen object from this new definition and use dump() to print its attributes."
   ]
  },
  {
   "cell_type": "code",
   "execution_count": 33,
   "id": "e8cf3585",
   "metadata": {},
   "outputs": [
    {
     "name": "stdout",
     "output_type": "stream",
     "text": [
      "Hydrogen H 1\n"
     ]
    }
   ],
   "source": [
    "# Ans:\n",
    "class Element:\n",
    "    def __init__(obj, name, symbol, number):\n",
    "        obj.name = name\n",
    "        obj.symbol = symbol\n",
    "        obj.number = number      \n",
    "    def dump(obj):\n",
    "        print(obj.name, obj.symbol, obj.number)\n",
    "        \n",
    "hydrogen = Element('Hydrogen','H',1)\n",
    "hydrogen.dump()"
   ]
  },
  {
   "cell_type": "markdown",
   "id": "fe514ce8",
   "metadata": {},
   "source": [
    "7. Call print(hydrogen). In the definition of Element, change the name of method dump to __str__, create a new hydrogen object, and call print(hydrogen) again."
   ]
  },
  {
   "cell_type": "code",
   "execution_count": 34,
   "id": "5989f2e4",
   "metadata": {},
   "outputs": [
    {
     "name": "stdout",
     "output_type": "stream",
     "text": [
      "<__main__.Element object at 0x000000C6727EA910>\n",
      "Hydrogen H 1\n"
     ]
    }
   ],
   "source": [
    "# Ans:\n",
    "\n",
    "print(hydrogen)\n",
    "\n",
    "class Element:\n",
    "    def __init__(obj, name, symbol, number):\n",
    "        obj.name = name\n",
    "        obj.symbol = symbol\n",
    "        obj.number = number      \n",
    "    def __str__(obj):\n",
    "        return f'{obj.name} {obj.symbol} {obj.number}'\n",
    "        \n",
    "Hydrogen = Element('Hydrogen','H',1)\n",
    "print(Hydrogen)"
   ]
  },
  {
   "cell_type": "markdown",
   "id": "7c4e32ad",
   "metadata": {},
   "source": [
    "8. Modify Element to make the attributes name, symbol, and number private. Define a getter property for each to return its value."
   ]
  },
  {
   "cell_type": "code",
   "execution_count": 35,
   "id": "15107124",
   "metadata": {},
   "outputs": [
    {
     "name": "stdout",
     "output_type": "stream",
     "text": [
      "Hydrogen\n",
      "H\n",
      "1\n"
     ]
    }
   ],
   "source": [
    "# Ans:\n",
    "class Element:\n",
    "    def __init__(obj,name,symbol,number):\n",
    "        obj.__name = name\n",
    "        obj.__symbol = symbol\n",
    "        obj.__number = number\n",
    "    \n",
    "    @property\n",
    "    def get_name(obj):\n",
    "        return obj.__name\n",
    "    \n",
    "    @property\n",
    "    def get_symbol(obj):\n",
    "        return obj.__symbol\n",
    "    \n",
    "    @property\n",
    "    def get_number(obj):\n",
    "        return obj.__number\n",
    "    \n",
    "hydrogen = Element('Hydrogen','H',1)\n",
    "print(hydrogen.get_name)\n",
    "print(hydrogen.get_symbol)\n",
    "print(hydrogen.get_number)"
   ]
  },
  {
   "cell_type": "markdown",
   "id": "a56195b1",
   "metadata": {},
   "source": [
    "9. Define three classes: Bear, Rabbit, and Octothorpe. For each, define only one method: eats(). This should return 'berries' (Bear), 'clover' (Rabbit), or 'campers' (Octothorpe). Create one object from each and print what it eats."
   ]
  },
  {
   "cell_type": "code",
   "execution_count": 37,
   "id": "77aa2bf0",
   "metadata": {},
   "outputs": [
    {
     "name": "stdout",
     "output_type": "stream",
     "text": [
      "berries\n",
      "clover\n",
      "campers\n"
     ]
    }
   ],
   "source": [
    "# Ans:\n",
    "class Bear:\n",
    "    def eats(obj):\n",
    "        print('berries')\n",
    "class Rabbit:\n",
    "    def eats(obj):\n",
    "        print('clover')\n",
    "class Octothorpe:\n",
    "    def eats(obj):\n",
    "        print('campers')\n",
    "        \n",
    "bear = Bear()\n",
    "rabbit = Rabbit()\n",
    "octothrope = Octothorpe()\n",
    "\n",
    "bear.eats()\n",
    "rabbit.eats()\n",
    "octothrope.eats()"
   ]
  },
  {
   "cell_type": "markdown",
   "id": "38a9cb25",
   "metadata": {},
   "source": [
    "10. Define these classes: Laser, Claw, and SmartPhone. Each has only one method: does(). This returns 'disintegrate' (Laser), 'crush' (Claw), or 'ring' (SmartPhone). Then, define the class Robot that has one instance (object) of each of these. Define a does() method for the Robot that prints what its component objects do."
   ]
  },
  {
   "cell_type": "code",
   "execution_count": 38,
   "id": "4806f2e8",
   "metadata": {},
   "outputs": [
    {
     "name": "stdout",
     "output_type": "stream",
     "text": [
      "disintegrate crush ring\n"
     ]
    }
   ],
   "source": [
    "# Ans:\n",
    "class Laser:\n",
    "    def does(obj):\n",
    "        return 'disintegrate'\n",
    "class Claw:\n",
    "    def does(obj):\n",
    "        return 'crush'\n",
    "class Smartphone:\n",
    "    def does(obj):\n",
    "        return 'ring'\n",
    "class Robot:\n",
    "    def __init__(obj):\n",
    "        obj.laser = Laser()\n",
    "        obj.claw = Claw()\n",
    "        obj.smartphone = Smartphone()\n",
    "    def does(obj):\n",
    "        print(obj.laser.does(),obj.claw.does(),obj.smartphone.does())\n",
    "        \n",
    "r2d2 = Robot()\n",
    "r2d2.does()"
   ]
  }
 ],
 "metadata": {
  "kernelspec": {
   "display_name": "Python 3 (ipykernel)",
   "language": "python",
   "name": "python3"
  },
  "language_info": {
   "codemirror_mode": {
    "name": "ipython",
    "version": 3
   },
   "file_extension": ".py",
   "mimetype": "text/x-python",
   "name": "python",
   "nbconvert_exporter": "python",
   "pygments_lexer": "ipython3",
   "version": "3.9.7"
  }
 },
 "nbformat": 4,
 "nbformat_minor": 5
}
