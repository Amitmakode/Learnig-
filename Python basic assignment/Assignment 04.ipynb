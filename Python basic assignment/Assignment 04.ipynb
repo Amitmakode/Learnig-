{
 "cells": [
  {
   "cell_type": "markdown",
   "id": "9d0d03eb",
   "metadata": {},
   "source": [
    "1. What exactly is [ ]?"
   ]
  },
  {
   "cell_type": "code",
   "execution_count": 1,
   "id": "7abf7349",
   "metadata": {},
   "outputs": [],
   "source": [
    "#Ans: The empty list represented by [] is a list that contains no items. "
   ]
  },
  {
   "cell_type": "markdown",
   "id": "7d4042d5",
   "metadata": {},
   "source": [
    "2. In a list of values stored in a variable called spam, how would you assign the value 'hello' as the third value? (Assume [2, 4, 6, 8, 10] are in spam.)"
   ]
  },
  {
   "cell_type": "code",
   "execution_count": 6,
   "id": "1ba79061",
   "metadata": {},
   "outputs": [
    {
     "name": "stdout",
     "output_type": "stream",
     "text": [
      "[2, 4, 'hello', 8, 10]\n"
     ]
    }
   ],
   "source": [
    "#Ans:\n",
    "spam = [2,4,6,8,10]\n",
    "spam[2]='hello' #Note: Lists follows (0,1,2...)zero based indexing\n",
    "print(spam)"
   ]
  },
  {
   "cell_type": "markdown",
   "id": "b5d6f62c",
   "metadata": {},
   "source": [
    "3. What is the value of spam[int(int('3' * 2) / 11)]?"
   ]
  },
  {
   "cell_type": "code",
   "execution_count": 21,
   "id": "9204e60e",
   "metadata": {},
   "outputs": [
    {
     "name": "stdout",
     "output_type": "stream",
     "text": [
      "spam[int(int('3'*2)//11)] --- d\n"
     ]
    }
   ],
   "source": [
    "#Ans: 'd' (Note that '3' * 2 is the string '33', which is passed to int() before being divided by 11. This eventually evaluates to 3, spam[3] is equal to d.)\n",
    "\n",
    "spam=['a','b','c','d']\n",
    "print(\"spam[int(int('3'*2)//11)] ---\",spam[int(int('3'*2)//11)])\n"
   ]
  },
  {
   "cell_type": "markdown",
   "id": "0acc925a",
   "metadata": {},
   "source": [
    "4. What is the value of spam[-1]?"
   ]
  },
  {
   "cell_type": "code",
   "execution_count": 27,
   "id": "7a5a8293",
   "metadata": {},
   "outputs": [
    {
     "data": {
      "text/plain": [
       "'d'"
      ]
     },
     "execution_count": 27,
     "metadata": {},
     "output_type": "execute_result"
    }
   ],
   "source": [
    "#Ans:\n",
    "spam =['a','b','c','d']\n",
    "spam[-1]"
   ]
  },
  {
   "cell_type": "markdown",
   "id": "c49474ec",
   "metadata": {},
   "source": [
    "5. What is the value of spam[:2]?"
   ]
  },
  {
   "cell_type": "code",
   "execution_count": 28,
   "id": "664a769a",
   "metadata": {},
   "outputs": [
    {
     "data": {
      "text/plain": [
       "['a', 'b']"
      ]
     },
     "execution_count": 28,
     "metadata": {},
     "output_type": "execute_result"
    }
   ],
   "source": [
    "#Ans:\n",
    "spam =['a','b','c','d']\n",
    "spam[:2]"
   ]
  },
  {
   "cell_type": "markdown",
   "id": "98c78f3f",
   "metadata": {},
   "source": [
    "#Let's pretend bacon has the list [3.14, 'cat,' 11, 'cat,' True] for the next three questions.\n",
    "\n",
    "6. What is the value of bacon.index('cat')?\n"
   ]
  },
  {
   "cell_type": "code",
   "execution_count": 32,
   "id": "b573f203",
   "metadata": {},
   "outputs": [
    {
     "name": "stdout",
     "output_type": "stream",
     "text": [
      "1\n"
     ]
    }
   ],
   "source": [
    "#Ans: The value of bacon.index('cat') is 1 (Note: index method returns the index of first occuerence of 'cat')\n",
    " \n",
    "bacon =[3.14, 'cat', 11, 'cat', True]\n",
    "print(bacon.index('cat'))"
   ]
  },
  {
   "cell_type": "markdown",
   "id": "98fab84c",
   "metadata": {},
   "source": [
    "7. How does bacon.append(99) change the look of the list value in bacon?"
   ]
  },
  {
   "cell_type": "code",
   "execution_count": 40,
   "id": "ec1f18db",
   "metadata": {},
   "outputs": [
    {
     "name": "stdout",
     "output_type": "stream",
     "text": [
      "[3.14, 'cat', 11, 'cat', True, 99]\n"
     ]
    }
   ],
   "source": [
    "#Ans:The append method adds new elements to the end of the list\n",
    "\n",
    "\n",
    "bacon =[3.14, 'cat', 11, 'cat', True]\n",
    "bacon.append(99)\n",
    "print(bacon)"
   ]
  },
  {
   "cell_type": "markdown",
   "id": "093ecb45",
   "metadata": {},
   "source": [
    "8. How does bacon.remove('cat') change the look of the list in bacon?"
   ]
  },
  {
   "cell_type": "code",
   "execution_count": 48,
   "id": "9a38641c",
   "metadata": {},
   "outputs": [
    {
     "name": "stdout",
     "output_type": "stream",
     "text": [
      "[3.14, 11, 'cat', True, 99]\n"
     ]
    }
   ],
   "source": [
    "#Ans: The remove method removes the first occurence of the element in the list\n",
    "\n",
    "bacon =[3.14, 'cat', 11, 'cat', True, 99]\n",
    "bacon.remove('cat')\n",
    "print(bacon)\n"
   ]
  },
  {
   "cell_type": "markdown",
   "id": "65992d21",
   "metadata": {},
   "source": [
    "9. What are the list concatenation and list replication operators?"
   ]
  },
  {
   "cell_type": "code",
   "execution_count": 51,
   "id": "33cb488b",
   "metadata": {},
   "outputs": [
    {
     "name": "stdout",
     "output_type": "stream",
     "text": [
      "['In', 'To', 'Before', 'After', 'Infront', 'RAN', 'DAN', 'RBC', 'WBC']\n",
      "['RAN', 'DAN', 'RBC', 'WBC', 'RAN', 'DAN', 'RBC', 'WBC']\n"
     ]
    }
   ],
   "source": [
    "#Ans:The operator for list concatenation is +, while the operator for replication is *. (This is the same as for strings.)\n",
    "\n",
    "list_1 = ['In','To','Before','After','Infront']\n",
    "list_2 = ['RAN','DAN','RBC','WBC']\n",
    "print(list_1 + list_2) # List Concatenation\n",
    "print(list_2*2) # List Replication"
   ]
  },
  {
   "cell_type": "markdown",
   "id": "3c634c89",
   "metadata": {},
   "source": [
    "10. What is difference between the list methods append() and insert()?"
   ]
  },
  {
   "cell_type": "code",
   "execution_count": 54,
   "id": "77720fef",
   "metadata": {},
   "outputs": [
    {
     "name": "stdout",
     "output_type": "stream",
     "text": [
      "[1, 2, 3, 4, 5, 6]\n",
      "[1, 'Test', 2, 3, 4, 5, 6]\n"
     ]
    }
   ],
   "source": [
    "#Ans: While append() will add values only to the end of a list, insert() can add them anywhere in the list.\n",
    "\n",
    "list = [1,2,3,4,5]\n",
    "list.append(6)\n",
    "print(list)\n",
    "list.insert(1,'Test')\n",
    "print(list)"
   ]
  },
  {
   "cell_type": "markdown",
   "id": "d483b3b0",
   "metadata": {},
   "source": [
    "11. What are the two methods for removing items from a list?"
   ]
  },
  {
   "cell_type": "code",
   "execution_count": 61,
   "id": "da91b5d4",
   "metadata": {},
   "outputs": [
    {
     "name": "stdout",
     "output_type": "stream",
     "text": [
      "[1, 2, 4, 5]\n",
      "[2, 4, 5]\n"
     ]
    }
   ],
   "source": [
    "#Ans: The del statement and the remove() method are two ways to remove values from a list\n",
    "\n",
    "list = [1,2,3,4,5]\n",
    "del list[2] #3 is deleted from list\n",
    "print(list)\n",
    "\n",
    "list.remove(1) #1 is remove from list\n",
    "print(list)"
   ]
  },
  {
   "cell_type": "markdown",
   "id": "c2fe1563",
   "metadata": {},
   "source": [
    "12. Describe how list values and string values are identical."
   ]
  },
  {
   "cell_type": "code",
   "execution_count": null,
   "id": "fc7b9f3d",
   "metadata": {},
   "outputs": [],
   "source": [
    "#Ans: Both lists and strings can be passed to len() function, have indexes and slices, be used in for loops, be concatenated or replicated, and be used with the in and not in operators."
   ]
  },
  {
   "cell_type": "markdown",
   "id": "cca8cdba",
   "metadata": {},
   "source": [
    "13. What's the difference between tuples and lists?"
   ]
  },
  {
   "cell_type": "code",
   "execution_count": 62,
   "id": "e906f01e",
   "metadata": {},
   "outputs": [],
   "source": [
    "#Ans: Lists are Mutable, Indexable and Slicable. they can have values added, removed, or changed. \n",
    "#Tuples are Immutable but Indexable and Slicable. the tuple values cannot be changed at all. \n",
    "#Also, tuples are represented using parentheses, (), while lists use the square brackets, [].\n"
   ]
  },
  {
   "cell_type": "markdown",
   "id": "85426728",
   "metadata": {},
   "source": [
    "14. How do you type a tuple value that only contains the integer 42?"
   ]
  },
  {
   "cell_type": "code",
   "execution_count": 65,
   "id": "70c4a11c",
   "metadata": {},
   "outputs": [
    {
     "name": "stdout",
     "output_type": "stream",
     "text": [
      "<class 'int'>\n",
      "<class 'tuple'>\n"
     ]
    }
   ],
   "source": [
    "#Ans:(42,) (The trailing comma is mandatory. otherwise its considered as a int by python Interpreter)\n",
    "\n",
    "tup_1=(42)\n",
    "tup_2=(42,) # this is tuple type\n",
    "print(type(tup_1))\n",
    "print(type(tup_2))"
   ]
  },
  {
   "cell_type": "markdown",
   "id": "a1dc6070",
   "metadata": {},
   "source": [
    "15. How do you get a list value's tuple form? How do you get a tuple value's list form?"
   ]
  },
  {
   "cell_type": "code",
   "execution_count": 79,
   "id": "0b793114",
   "metadata": {},
   "outputs": [
    {
     "data": {
      "text/plain": [
       "tuple"
      ]
     },
     "execution_count": 79,
     "metadata": {},
     "output_type": "execute_result"
    }
   ],
   "source": [
    "#Ans: The tuple() and list() functions, respectively are used to convert a list to tuple and vice versa\n",
    "\n",
    "list_3=[12,13,14,15,16,17] #this is a list \n",
    "type(list_3)\n",
    "\n",
    "a = tuple(list_3) #convert into tuple\n",
    "type(a)\n",
    "\n",
    "#Same as tuple to list"
   ]
  },
  {
   "cell_type": "markdown",
   "id": "9912b729",
   "metadata": {},
   "source": [
    "16. Variables that \"contain\" list values are not necessarily lists themselves. Instead, what do they contain?"
   ]
  },
  {
   "cell_type": "code",
   "execution_count": 80,
   "id": "46b3fe62",
   "metadata": {},
   "outputs": [],
   "source": [
    "#Ans: They contain references to list values."
   ]
  },
  {
   "cell_type": "markdown",
   "id": "a590160c",
   "metadata": {},
   "source": [
    "17. How do you distinguish between copy.copy() and copy.deepcopy()?"
   ]
  },
  {
   "cell_type": "code",
   "execution_count": 81,
   "id": "d863ab9a",
   "metadata": {},
   "outputs": [],
   "source": [
    "#Ans: The copy.copy() function will do a shallow copy of a list, \n",
    "#while the copy.deepcopy() function will do a deep copy of a list. \n",
    "#That is, only copy.deepcopy() will duplicate any lists inside the copy.copy()."
   ]
  }
 ],
 "metadata": {
  "kernelspec": {
   "display_name": "Python 3 (ipykernel)",
   "language": "python",
   "name": "python3"
  },
  "language_info": {
   "codemirror_mode": {
    "name": "ipython",
    "version": 3
   },
   "file_extension": ".py",
   "mimetype": "text/x-python",
   "name": "python",
   "nbconvert_exporter": "python",
   "pygments_lexer": "ipython3",
   "version": "3.9.7"
  }
 },
 "nbformat": 4,
 "nbformat_minor": 5
}
