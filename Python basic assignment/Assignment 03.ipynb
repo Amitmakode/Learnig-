{
 "cells": [
  {
   "cell_type": "markdown",
   "id": "9831b4d2",
   "metadata": {},
   "source": [
    "1. Why are functions advantageous to have in your programs?"
   ]
  },
  {
   "cell_type": "code",
   "execution_count": 38,
   "id": "78c6bf13",
   "metadata": {},
   "outputs": [],
   "source": [
    "#Ans: A Functions in python programming reduce the need for duplicate code. \n",
    "#This makes programs shorter, easier to read, and easier to update. \n",
    "#The main advantage of functions is code Reusability."
   ]
  },
  {
   "cell_type": "markdown",
   "id": "2f112622",
   "metadata": {},
   "source": [
    "2. When does the code in a function run: when it's specified or when it's called?"
   ]
  },
  {
   "cell_type": "code",
   "execution_count": 39,
   "id": "ef5426dd",
   "metadata": {},
   "outputs": [],
   "source": [
    "#Ans: The code in a function executes when the function is called, but not when the function is specified."
   ]
  },
  {
   "cell_type": "markdown",
   "id": "d2948923",
   "metadata": {},
   "source": [
    "3. What statement creates a function?"
   ]
  },
  {
   "cell_type": "code",
   "execution_count": 40,
   "id": "4dacf4c4",
   "metadata": {},
   "outputs": [
    {
     "data": {
      "text/plain": [
       "True"
      ]
     },
     "execution_count": 40,
     "metadata": {},
     "output_type": "execute_result"
    }
   ],
   "source": [
    "#Ans: The \"def\" statement defines a function\n",
    "#Syntax of Function:\n",
    "\"\"\"def function_name(parameters):\n",
    "    \"doc string\"          \n",
    "    -----function body-----\n",
    "    -----function body-----\n",
    "    return value \"\"\"\n",
    "\n",
    "def test(a, b, c):\n",
    "    return (a ==b+c)\n",
    "\n",
    "test(5, 3,2)\n"
   ]
  },
  {
   "cell_type": "markdown",
   "id": "16b9216c",
   "metadata": {},
   "source": [
    "4. What is the difference between a function and a function call?"
   ]
  },
  {
   "cell_type": "code",
   "execution_count": 41,
   "id": "9e60b5a8",
   "metadata": {},
   "outputs": [],
   "source": [
    "#Ans: A function is procedure to achieve a particular result. \n",
    "#while function call is using this function to achive that task. \n",
    "\n"
   ]
  },
  {
   "cell_type": "markdown",
   "id": "a9ed18da",
   "metadata": {},
   "source": [
    "5. How many global scopes are there in a Python program? How many local scopes?"
   ]
  },
  {
   "cell_type": "code",
   "execution_count": 42,
   "id": "366fd002",
   "metadata": {},
   "outputs": [],
   "source": [
    "#Ans: A variable created in the main body of the Python code is a global variable and belongs to the global scope.\n",
    "#A variable created inside a function belongs to the local scope of that function, and can only be used inside that function."
   ]
  },
  {
   "cell_type": "markdown",
   "id": "06955f91",
   "metadata": {},
   "source": [
    "6. What happens to variables in a local scope when the function call returns?"
   ]
  },
  {
   "cell_type": "code",
   "execution_count": 43,
   "id": "d7f9696b",
   "metadata": {},
   "outputs": [],
   "source": [
    "#Ans: When a function call returns, the local scope is destroyed, and all the variables in it are forgotten.\n"
   ]
  },
  {
   "cell_type": "markdown",
   "id": "24fc0199",
   "metadata": {},
   "source": [
    "7. What is the concept of a return value? Is it possible to have a return value in an expression?"
   ]
  },
  {
   "cell_type": "code",
   "execution_count": 47,
   "id": "e8ff44cc",
   "metadata": {},
   "outputs": [],
   "source": [
    "#Ans: A return is a value that a function returns to the calling script or function when it \n",
    "#completes its task. A return value can be any one of the four variable types: handle,integer,object or string. \n",
    "#Like any value, a return value can be used as part of an expression.\n",
    "    "
   ]
  },
  {
   "cell_type": "markdown",
   "id": "b067bdc3",
   "metadata": {},
   "source": [
    "8. If a function does not have a return statement, what is the return value of a call to that function?"
   ]
  },
  {
   "cell_type": "code",
   "execution_count": 48,
   "id": "59103b23",
   "metadata": {},
   "outputs": [],
   "source": [
    "#Ans: If there is no return statement for a function, its return value is None.\n"
   ]
  },
  {
   "cell_type": "markdown",
   "id": "b9935b2f",
   "metadata": {},
   "source": [
    "9. How do you make a function variable refer to the global variable?"
   ]
  },
  {
   "cell_type": "code",
   "execution_count": 49,
   "id": "1a20aded",
   "metadata": {},
   "outputs": [],
   "source": [
    "#Ans: If you want to refer to a global variable in a function, you can use the global keyword to declare which variables are global."
   ]
  },
  {
   "cell_type": "markdown",
   "id": "c60d9be6",
   "metadata": {},
   "source": [
    "10. What is the data type of None?"
   ]
  },
  {
   "cell_type": "code",
   "execution_count": 51,
   "id": "fee5beca",
   "metadata": {},
   "outputs": [],
   "source": [
    "#Ans: None is a data type of its own (NoneType) and only None can be None."
   ]
  },
  {
   "cell_type": "markdown",
   "id": "d2a8ff5f",
   "metadata": {},
   "source": [
    "11. What does the sentence import areallyourpetsnamederic do?"
   ]
  },
  {
   "cell_type": "code",
   "execution_count": 52,
   "id": "95d96e92",
   "metadata": {},
   "outputs": [],
   "source": [
    "#Ans: That import statement imports a module named areallyourpetsnamederic.\n"
   ]
  },
  {
   "cell_type": "markdown",
   "id": "5927c7a9",
   "metadata": {},
   "source": [
    "12. If you had a bacon() feature in a spam module, what would you call it after importing spam?"
   ]
  },
  {
   "cell_type": "code",
   "execution_count": 53,
   "id": "ace51d78",
   "metadata": {},
   "outputs": [],
   "source": [
    "#Ans: This function can be called with spam.bacon()."
   ]
  },
  {
   "cell_type": "markdown",
   "id": "f854ee95",
   "metadata": {},
   "source": [
    "13. What can you do to save a programme from crashing if it encounters an error?"
   ]
  },
  {
   "cell_type": "code",
   "execution_count": 54,
   "id": "02e9a8b1",
   "metadata": {},
   "outputs": [],
   "source": [
    "#Ans: Place the line of code that might cause an error in a try clause and use except block to handle the error."
   ]
  },
  {
   "cell_type": "markdown",
   "id": "8cf7ee53",
   "metadata": {},
   "source": [
    "14. What is the purpose of the try clause? What is the purpose of the except clause?"
   ]
  },
  {
   "cell_type": "code",
   "execution_count": null,
   "id": "a16e480f",
   "metadata": {},
   "outputs": [],
   "source": [
    "#Ans:The code that could potentially cause an error goes in the try clause. The code that executes if an error happens goes in the except clause."
   ]
  }
 ],
 "metadata": {
  "kernelspec": {
   "display_name": "Python 3 (ipykernel)",
   "language": "python",
   "name": "python3"
  },
  "language_info": {
   "codemirror_mode": {
    "name": "ipython",
    "version": 3
   },
   "file_extension": ".py",
   "mimetype": "text/x-python",
   "name": "python",
   "nbconvert_exporter": "python",
   "pygments_lexer": "ipython3",
   "version": "3.9.7"
  }
 },
 "nbformat": 4,
 "nbformat_minor": 5
}
