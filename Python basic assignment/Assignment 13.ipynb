{
 "cells": [
  {
   "cell_type": "markdown",
   "id": "5a11f804",
   "metadata": {},
   "source": [
    "1. What advantages do Excel spreadsheets have over CSV spreadsheets?"
   ]
  },
  {
   "cell_type": "code",
   "execution_count": null,
   "id": "13bb81f1",
   "metadata": {},
   "outputs": [],
   "source": [
    "# Ans: The Advantages of Excel over CSV are:\n",
    "\n",
    "# 1 CSV stands for Comma separated value. MS Excel stands for Microsoft Excel.\n",
    "# 2 It is a plain text format with a series of values separated by commas.It is a binary file that holds information about all the worksheets in a workbook.\n",
    "# 3 CSV can be opened with any text editor in Windows like notepad, MS Excel, Microsoft Works 9, etc. Excel file can be opened with Microsoft Excel doc only.\n",
    "# 4 It is a standard of saving tabular information into a delimited text file. It is a spreadsheet application that saves files into its own format.\n",
    "# 5 CSV file saved with extension as .csv. Excel file saved with extension as .xls/.xlsx.\n",
    "# 6 It consumes less memory than Excel. It consumes more memory than CSV.\n",
    "# 7 No such feature is available in CSV format when it is compared with Excel. It also provides the user option for external linking of data from other sources and also the user can do custom add-ins.\n",
    "# 8 It is not easier for the end user to read large files in CSV. It is easier for the end user to read large files.\n",
    "\n",
    "\n",
    "# Excel (XLS and XLSX) file formats are better for storing and analysing complex data.\n",
    "# An Excel not only stores data but can also do operations on the data using macros, formulas etc\n",
    "# CSV files are plain-text files, Does not contain formatting, formulas, macros, etc. It is also known as flat files"
   ]
  },
  {
   "cell_type": "markdown",
   "id": "8e889ad2",
   "metadata": {},
   "source": [
    "2.What do you pass to csv.reader() and csv.writer() to create reader and writer objects?"
   ]
  },
  {
   "cell_type": "code",
   "execution_count": 15,
   "id": "29d32067",
   "metadata": {},
   "outputs": [
    {
     "name": "stdout",
     "output_type": "stream",
     "text": [
      "['SN', 'Subject', 'Protagonist']\n",
      "['1', 'Lord of the Rings', 'Frodo Baggins']\n",
      "['2', 'Harry Potter', 'Harry Potter']\n"
     ]
    }
   ],
   "source": [
    "# Ans: \n",
    "import csv\n",
    "with open('RPO.csv','r') as file:\n",
    "    csv_file = csv.reader(file,delimiter=',')\n",
    "    for element in csv_file:\n",
    "        print(element)\n",
    "    "
   ]
  },
  {
   "cell_type": "markdown",
   "id": "5321c5ad",
   "metadata": {},
   "source": [
    "3. What modes do File objects for reader and writer objects need to be opened in?"
   ]
  },
  {
   "cell_type": "code",
   "execution_count": null,
   "id": "cc8eb733",
   "metadata": {},
   "outputs": [],
   "source": [
    "# Ans: For csv.reader(iterable_file_object), the file objects needed to be opened in read mode mode='r' \n",
    "# Whereas for csv.writer(iterable_file_object) the file objects needed to be opened in write mode mode='w'"
   ]
  },
  {
   "cell_type": "markdown",
   "id": "4130135e",
   "metadata": {},
   "source": [
    "4. What method takes a list argument and writes it to a CSV file?"
   ]
  },
  {
   "cell_type": "code",
   "execution_count": null,
   "id": "677aab64",
   "metadata": {},
   "outputs": [],
   "source": [
    "# Ans: csv.writer class provides two methods for writing to CSV. \n",
    "# They are writerow() and writerows(). writerow() method writes a single row at a time. Whereas writerows() method is used to write multiple rows at a time."
   ]
  },
  {
   "cell_type": "code",
   "execution_count": 18,
   "id": "127ad9b6",
   "metadata": {},
   "outputs": [],
   "source": [
    "import csv      \n",
    "fields = ['Name', 'Section', 'Year', 'CGPA'] #column names \n",
    "rows = [ \n",
    "            ['Vaidehi', 'A', '2', '9.0'],  # data rows of csv file \n",
    "            ['Raghav', 'B', '2', '9.1'], \n",
    "            ['Simran', 'C', '2', '9.3']\n",
    "       ] \n",
    "with open(\"Classroom_records.csv\", 'w') as csvfile: \n",
    "    csvwriter = csv.writer(csvfile) # creating a csv writer object \n",
    "    csvwriter.writerow(fields) # writing the fields \n",
    "    csvwriter.writerows(rows) # writing the data rows "
   ]
  },
  {
   "cell_type": "markdown",
   "id": "8fc1d278",
   "metadata": {},
   "source": [
    "5. What do the keyword arguments delimiter and line terminator do?"
   ]
  },
  {
   "cell_type": "code",
   "execution_count": null,
   "id": "71c59908",
   "metadata": {},
   "outputs": [],
   "source": [
    "# Ans:The delimiter and lineterminator Keyword Arguments\n",
    "\n",
    "Lets take the example of a csv file:\n",
    "First Name, Last Name, Age\n",
    "Manik, shah, 24\n",
    "Vishal, verma, 21\n",
    "# Here ',' is Delimiter. We can use any Character as per our needs if required. \n",
    "# Similarly Line Terminator comes at end of line by default it is newline and can be changed accourding to Requirement."
   ]
  },
  {
   "cell_type": "markdown",
   "id": "cd3ba53e",
   "metadata": {},
   "source": [
    "6. What function takes a string of JSON data and returns a Python data structure?"
   ]
  },
  {
   "cell_type": "code",
   "execution_count": 23,
   "id": "cad88353",
   "metadata": {},
   "outputs": [
    {
     "name": "stdout",
     "output_type": "stream",
     "text": [
      "{\n",
      "    \"Name\": \"Manoj Rao\",\n",
      "    \"Qualification\": \"Bachelor of Engineering\",\n",
      "    \"Stream\": \"Computer Science\"\n",
      "}\n",
      "Type of my_details_json is <class 'str'>\n",
      "{'Name': 'Manoj Rao', 'Qualification': 'Bachelor of Engineering', 'Stream': 'Computer Science'}\n",
      "Type of my_details is <class 'dict'>\n"
     ]
    }
   ],
   "source": [
    "# Ans: loads() method takes a string of JSON data and returns a Python data structure\n",
    "\n",
    "\n",
    "# Example of json.loads() method\n",
    "import json\n",
    "my_details_json ='''{\n",
    "    \"Name\": \"Manoj Rao\",\n",
    "    \"Qualification\": \"Bachelor of Engineering\",\n",
    "    \"Stream\": \"Computer Science\"\n",
    "}'''\n",
    "print(my_details_json)\n",
    "print(f'Type of my_details_json is {type(my_details_json)}')\n",
    "my_details = json.loads(my_details_json)\n",
    "print(my_details)\n",
    "print(f'Type of my_details is {type(my_details)}')"
   ]
  },
  {
   "cell_type": "markdown",
   "id": "4ddedd59",
   "metadata": {},
   "source": [
    "7. What function takes a Python data structure and returns a string of JSON data?"
   ]
  },
  {
   "cell_type": "code",
   "execution_count": 25,
   "id": "3214f97d",
   "metadata": {},
   "outputs": [
    {
     "name": "stdout",
     "output_type": "stream",
     "text": [
      "{'Name': 'Manoj Rao', 'Stream': 'Computer Science', 'Qualification': 'Bachelor of Engineer'}\n",
      "Type of my_details is <class 'dict'>\n",
      "{\n",
      "    \"Name\": \"Manoj Rao\",\n",
      "    \"Qualification\": \"Bachelor of Engineer\",\n",
      "    \"Stream\": \"Computer Science\"\n",
      "}\n",
      "Type of my_details_json is <class 'str'>\n"
     ]
    }
   ],
   "source": [
    "# Ans: dumps() method takes a python data structure and returns a string of JSON data\n",
    "\n",
    "\n",
    "import json\n",
    "my_details = {\n",
    "    'Name':'Manoj Rao',\n",
    "    'Stream':'Computer Science',\n",
    "    'Qualification':'Bachelor of Engineer'\n",
    "}\n",
    "print(my_details)\n",
    "print(f'Type of my_details is {type(my_details)}')\n",
    "my_details_json = json.dumps(my_details, indent=4, sort_keys=True)\n",
    "print(my_details_json)\n",
    "print(f'Type of my_details_json is {type(my_details_json)}')"
   ]
  }
 ],
 "metadata": {
  "kernelspec": {
   "display_name": "Python 3 (ipykernel)",
   "language": "python",
   "name": "python3"
  },
  "language_info": {
   "codemirror_mode": {
    "name": "ipython",
    "version": 3
   },
   "file_extension": ".py",
   "mimetype": "text/x-python",
   "name": "python",
   "nbconvert_exporter": "python",
   "pygments_lexer": "ipython3",
   "version": "3.9.7"
  }
 },
 "nbformat": 4,
 "nbformat_minor": 5
}
