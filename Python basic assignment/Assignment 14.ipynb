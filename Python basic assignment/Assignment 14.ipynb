{
 "cells": [
  {
   "cell_type": "markdown",
   "id": "da74d284",
   "metadata": {},
   "source": [
    "1. What does RGBA stand for?"
   ]
  },
  {
   "cell_type": "code",
   "execution_count": null,
   "id": "5e532af3",
   "metadata": {},
   "outputs": [],
   "source": [
    "# Ans: RGBA is a four-channel format containing data for Red, Green, Blue, and an Alpha value. \n",
    "# Where Alpha Represents the Opacity"
   ]
  },
  {
   "cell_type": "markdown",
   "id": "fa18f1f0",
   "metadata": {},
   "source": [
    "2. From the Pillow module, how do you get the RGBA value of any images?"
   ]
  },
  {
   "cell_type": "code",
   "execution_count": 8,
   "id": "b606c8fc",
   "metadata": {},
   "outputs": [],
   "source": [
    "# Ans: ImageColor.getcolor() gives rgba value of any image\n",
    "\n",
    "from PIL import Image\n",
    "  \n",
    "img = Image.open('Test_image.png')\n",
    "rgba = img.convert(\"RGBA\")\n",
    "datas = rgba.getdata()\n",
    "  \n",
    "newData = []\n",
    "for item in datas:\n",
    "    if item[0] == 0 and item[1] == 0 and item[2] == 0:  # finding black colour by its RGB value\n",
    "        # storing a transparent value when we find a black colour\n",
    "        newData.append((555, 455, 355, 0))\n",
    "    else:\n",
    "        newData.append(item)  # other colours remain unchanged\n",
    "  \n",
    "rgba.putdata(newData)\n",
    "rgba.save(\"transparent_image.png\", \"PNG\")"
   ]
  },
  {
   "cell_type": "markdown",
   "id": "f551461e",
   "metadata": {},
   "source": [
    "3. What is a box tuple, and how does it work?"
   ]
  },
  {
   "cell_type": "code",
   "execution_count": null,
   "id": "1e39552e",
   "metadata": {},
   "outputs": [],
   "source": [
    "# Ans: A box tuple is a tuple value of four integers: the left-edge x-coordinate, the top-edge y-coordinate, the width and the height, respectively."
   ]
  },
  {
   "cell_type": "markdown",
   "id": "605b0cba",
   "metadata": {},
   "source": [
    "4. Use your image and load in notebook then, How can you find out the width and height of an Image object?"
   ]
  },
  {
   "cell_type": "code",
   "execution_count": 9,
   "id": "df286428",
   "metadata": {},
   "outputs": [
    {
     "name": "stdout",
     "output_type": "stream",
     "text": [
      "Width, Height -> (480, 640)\n",
      "Width, Height -> 480,640\n",
      "Width, Height -> 480,640\n"
     ]
    }
   ],
   "source": [
    "# Ans:\n",
    "#Example Program\n",
    "from PIL import Image\n",
    "pic = Image.open('Amit.jpg')\n",
    "print(f'Width, Height -> {pic.size}') # Approach 1\n",
    "print(f'Width, Height -> {pic.width},{pic.height}') # Approach 2\n",
    "width,height = pic.size\n",
    "print(f'Width, Height -> {width},{height}') # Approach 3"
   ]
  },
  {
   "cell_type": "markdown",
   "id": "ad918572",
   "metadata": {},
   "source": [
    "5. What method would you call to get Image object for a 100×100 image, excluding the lower-left quarter of it?"
   ]
  },
  {
   "cell_type": "code",
   "execution_count": 11,
   "id": "0601f467",
   "metadata": {},
   "outputs": [],
   "source": [
    "# Ans: \n",
    "\n",
    "from PIL import Image\n",
    "img = Image.open('Amit.jpg')\n",
    "new_img = img.crop((0,50,50,50))"
   ]
  },
  {
   "cell_type": "markdown",
   "id": "fdf0d077",
   "metadata": {},
   "source": [
    "6. After making changes to an Image object, how could you save it as an image file?"
   ]
  },
  {
   "cell_type": "code",
   "execution_count": 13,
   "id": "e6d553cd",
   "metadata": {},
   "outputs": [],
   "source": [
    "# Ans:\n",
    "#Example\n",
    "\n",
    "from PIL import Image\n",
    "pic = Image.open('Amit.jpg')\n",
    "pic.save('Pic.jpg')"
   ]
  },
  {
   "cell_type": "markdown",
   "id": "cf9e1ab1",
   "metadata": {},
   "source": [
    "7. What module contains Pillow’s shape-drawing code?"
   ]
  },
  {
   "cell_type": "code",
   "execution_count": null,
   "id": "614eb379",
   "metadata": {},
   "outputs": [],
   "source": [
    "# Ans: \n",
    "# Pillows ImageDraw module contains Shape drawing methods\n",
    "# The ImageDraw module provides simple 2D graphics for Image objects. You can use this module to create new images, annotate or retouch existing images, and to generate graphics on the fly for web use."
   ]
  },
  {
   "cell_type": "markdown",
   "id": "ddae173d",
   "metadata": {},
   "source": [
    "8. Image objects do not have drawing methods. What kind of object does? How do you get this kind of object?"
   ]
  },
  {
   "cell_type": "code",
   "execution_count": null,
   "id": "dcb7c3bc",
   "metadata": {},
   "outputs": [],
   "source": [
    "# Ans: ImageDraw objects have shape-drawing methods such as point(), line(), or rectangle().\n",
    "# They are returned by passing the Image object to the ImageDraw.Draw() function."
   ]
  }
 ],
 "metadata": {
  "kernelspec": {
   "display_name": "Python 3 (ipykernel)",
   "language": "python",
   "name": "python3"
  },
  "language_info": {
   "codemirror_mode": {
    "name": "ipython",
    "version": 3
   },
   "file_extension": ".py",
   "mimetype": "text/x-python",
   "name": "python",
   "nbconvert_exporter": "python",
   "pygments_lexer": "ipython3",
   "version": "3.9.7"
  }
 },
 "nbformat": 4,
 "nbformat_minor": 5
}
