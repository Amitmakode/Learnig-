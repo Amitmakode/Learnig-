{
 "cells": [
  {
   "cell_type": "markdown",
   "id": "d583fda5",
   "metadata": {},
   "source": [
    "#Q1.\"\"\"In the below elements which of them are values or an expression? eg:-\n",
    "values can be integer or string and expressions will be mathematical operators.\"\"\"\n"
   ]
  },
  {
   "cell_type": "code",
   "execution_count": 111,
   "id": "235af638",
   "metadata": {},
   "outputs": [],
   "source": [
    "# \"*\" - mathematical expression\n",
    "# \"hello\"- string value\n",
    "# \"-87.8\" - float value\n",
    "# \"-\"  -  mathematical expression\n",
    "# \"/\"  -  Mathematical expression\n",
    "# \"+\"  -  Mathematical expression\n",
    "# \"6\"  -  integer value"
   ]
  },
  {
   "cell_type": "code",
   "execution_count": 4,
   "id": "51b3ad40",
   "metadata": {},
   "outputs": [
    {
     "data": {
      "text/plain": [
       "6"
      ]
     },
     "execution_count": 4,
     "metadata": {},
     "output_type": "execute_result"
    }
   ],
   "source": [
    "2*3"
   ]
  },
  {
   "cell_type": "code",
   "execution_count": 10,
   "id": "32d962f7",
   "metadata": {},
   "outputs": [
    {
     "data": {
      "text/plain": [
       "str"
      ]
     },
     "execution_count": 10,
     "metadata": {},
     "output_type": "execute_result"
    }
   ],
   "source": [
    "type(\"hello\")"
   ]
  },
  {
   "cell_type": "code",
   "execution_count": 11,
   "id": "b5ecfa14",
   "metadata": {},
   "outputs": [
    {
     "data": {
      "text/plain": [
       "float"
      ]
     },
     "execution_count": 11,
     "metadata": {},
     "output_type": "execute_result"
    }
   ],
   "source": [
    "type(-87.8)"
   ]
  },
  {
   "cell_type": "code",
   "execution_count": 12,
   "id": "c1faef33",
   "metadata": {},
   "outputs": [
    {
     "data": {
      "text/plain": [
       "2"
      ]
     },
     "execution_count": 12,
     "metadata": {},
     "output_type": "execute_result"
    }
   ],
   "source": [
    "8-6"
   ]
  },
  {
   "cell_type": "code",
   "execution_count": 13,
   "id": "1f1626d6",
   "metadata": {},
   "outputs": [
    {
     "data": {
      "text/plain": [
       "7.0"
      ]
     },
     "execution_count": 13,
     "metadata": {},
     "output_type": "execute_result"
    }
   ],
   "source": [
    "21/3"
   ]
  },
  {
   "cell_type": "code",
   "execution_count": 14,
   "id": "b5511e9c",
   "metadata": {},
   "outputs": [
    {
     "data": {
      "text/plain": [
       "7"
      ]
     },
     "execution_count": 14,
     "metadata": {},
     "output_type": "execute_result"
    }
   ],
   "source": [
    "3+4"
   ]
  },
  {
   "cell_type": "code",
   "execution_count": 15,
   "id": "4caf943f",
   "metadata": {},
   "outputs": [
    {
     "data": {
      "text/plain": [
       "int"
      ]
     },
     "execution_count": 15,
     "metadata": {},
     "output_type": "execute_result"
    }
   ],
   "source": [
    "type(6)"
   ]
  },
  {
   "cell_type": "markdown",
   "id": "1afbce45",
   "metadata": {},
   "source": [
    "#2. What is the difference between string and variable?"
   ]
  },
  {
   "cell_type": "code",
   "execution_count": 109,
   "id": "57a0eab0",
   "metadata": {},
   "outputs": [],
   "source": [
    "#string and variable\n",
    "\n",
    "#string: It is a value which can be written in single/dobule quotes.\n",
    "#Variable: It is the thing in which we can store data just like a container."
   ]
  },
  {
   "cell_type": "markdown",
   "id": "b935648b",
   "metadata": {},
   "source": [
    "#3. Describe three different data types."
   ]
  },
  {
   "cell_type": "code",
   "execution_count": 118,
   "id": "f8418906",
   "metadata": {},
   "outputs": [],
   "source": [
    "# Integer:  It is a data type which can be only numeric like 1,2,10,57...\n",
    "# String: It is a data type which can be written in qoutes only\n",
    "# List: the list is used for storing multiple data items in a single variable.\n",
    "# Float; This is a float type data like 2.5, 7.8... "
   ]
  },
  {
   "cell_type": "code",
   "execution_count": 3,
   "id": "854e3d77",
   "metadata": {},
   "outputs": [
    {
     "data": {
      "text/plain": [
       "2"
      ]
     },
     "execution_count": 3,
     "metadata": {},
     "output_type": "execute_result"
    }
   ],
   "source": [
    "int (2)"
   ]
  },
  {
   "cell_type": "code",
   "execution_count": 8,
   "id": "0bc5c2b3",
   "metadata": {},
   "outputs": [
    {
     "ename": "ValueError",
     "evalue": "invalid literal for int() with base 10: 'India'",
     "output_type": "error",
     "traceback": [
      "\u001b[1;31m---------------------------------------------------------------------------\u001b[0m",
      "\u001b[1;31mValueError\u001b[0m                                Traceback (most recent call last)",
      "\u001b[1;32m~\\AppData\\Local\\Temp/ipykernel_6192/1240250510.py\u001b[0m in \u001b[0;36m<module>\u001b[1;34m\u001b[0m\n\u001b[0;32m      1\u001b[0m \u001b[1;31m# no alfabets allow in integer type data base\u001b[0m\u001b[1;33m\u001b[0m\u001b[1;33m\u001b[0m\u001b[0m\n\u001b[1;32m----> 2\u001b[1;33m \u001b[0mint\u001b[0m\u001b[1;33m(\u001b[0m\u001b[1;34m\"India\"\u001b[0m\u001b[1;33m)\u001b[0m\u001b[1;33m\u001b[0m\u001b[1;33m\u001b[0m\u001b[0m\n\u001b[0m",
      "\u001b[1;31mValueError\u001b[0m: invalid literal for int() with base 10: 'India'"
     ]
    }
   ],
   "source": [
    "# no alfabets allow in integer type data base\n",
    "int(\"India\")"
   ]
  },
  {
   "cell_type": "code",
   "execution_count": 9,
   "id": "b42cb1d6",
   "metadata": {},
   "outputs": [
    {
     "data": {
      "text/plain": [
       "'India'"
      ]
     },
     "execution_count": 9,
     "metadata": {},
     "output_type": "execute_result"
    }
   ],
   "source": [
    "str(\"India\")"
   ]
  },
  {
   "cell_type": "code",
   "execution_count": 13,
   "id": "95694ee1",
   "metadata": {},
   "outputs": [],
   "source": [
    "x = [2, 5,6,8,\"Happy\", \" smile\", \"name\", 9.99, 3+7j]"
   ]
  },
  {
   "cell_type": "code",
   "execution_count": 14,
   "id": "4eabba53",
   "metadata": {},
   "outputs": [
    {
     "data": {
      "text/plain": [
       "list"
      ]
     },
     "execution_count": 14,
     "metadata": {},
     "output_type": "execute_result"
    }
   ],
   "source": [
    "type(x)"
   ]
  },
  {
   "cell_type": "code",
   "execution_count": 15,
   "id": "352185f8",
   "metadata": {},
   "outputs": [
    {
     "data": {
      "text/plain": [
       "float"
      ]
     },
     "execution_count": 15,
     "metadata": {},
     "output_type": "execute_result"
    }
   ],
   "source": [
    "type(2.5889)"
   ]
  },
  {
   "cell_type": "markdown",
   "id": "21fcfc40",
   "metadata": {},
   "source": [
    " #4. What is an expression made up of? What do all expressions do?"
   ]
  },
  {
   "cell_type": "code",
   "execution_count": null,
   "id": "1b0ee93c",
   "metadata": {},
   "outputs": [],
   "source": [
    "# Expression is made up of values, containers, and operands e.g a = 2 + 3\n",
    "# Expressions are used to evaluate the values or represent the result on the screen.\n",
    "#20+20-40 , Is an Expression, The Python Interpreter Evaluates it to 0\n"
   ]
  },
  {
   "cell_type": "markdown",
   "id": "34bc68d8",
   "metadata": {},
   "source": [
    "#5. This assignment statements, like spam = 10. What is the difference between an expression and a statement?"
   ]
  },
  {
   "cell_type": "code",
   "execution_count": 22,
   "id": "c9d74f0e",
   "metadata": {},
   "outputs": [
    {
     "name": "stdout",
     "output_type": "stream",
     "text": [
      "Hello World!\n"
     ]
    }
   ],
   "source": [
    "# Expression is made up of values, containers and operands, \n",
    "# and the statement is just like a command that a programming language (python) interpreter executes like print.\n",
    "#which means that it finds the value of the expression.\n",
    "\n",
    "#courseName = 'FullStack DataSciencec bootcamp' # Is a Statement\n",
    "print(\"Hello World!\") # Is a Expression Statement\n",
    "\n"
   ]
  },
  {
   "cell_type": "markdown",
   "id": "b9979c65",
   "metadata": {},
   "source": [
    "#6. After running the following code, what does the variable bacon contain?\n",
    "bacon = 22\n",
    "bacon + 1\n"
   ]
  },
  {
   "cell_type": "code",
   "execution_count": 26,
   "id": "78cd03dd",
   "metadata": {
    "scrolled": true
   },
   "outputs": [
    {
     "name": "stdout",
     "output_type": "stream",
     "text": [
      "23\n"
     ]
    }
   ],
   "source": [
    "#The variable bacon is set to 22.\n",
    "\n",
    "bacon=22\n",
    "bacon=bacon+1 \n",
    "print(bacon)"
   ]
  },
  {
   "cell_type": "markdown",
   "id": "c344863b",
   "metadata": {},
   "source": [
    "#7. What should the values of the following two terms be?\n",
    "'spam' + 'spamspam'\n",
    "'spam' * 3\n"
   ]
  },
  {
   "cell_type": "code",
   "execution_count": 30,
   "id": "5d7b2e0d",
   "metadata": {},
   "outputs": [
    {
     "data": {
      "text/plain": [
       "'spamspamspam'"
      ]
     },
     "execution_count": 30,
     "metadata": {},
     "output_type": "execute_result"
    }
   ],
   "source": [
    "#Both expressions evaluate to the string 'spamspamspam' Where as the first expression follows String Concatentation and the second expression follows String Multiplication\n",
    "\n",
    "\"spam\" + \"spamspam\" "
   ]
  },
  {
   "cell_type": "code",
   "execution_count": 29,
   "id": "84824c6b",
   "metadata": {},
   "outputs": [
    {
     "data": {
      "text/plain": [
       "'spamspamspam'"
      ]
     },
     "execution_count": 29,
     "metadata": {},
     "output_type": "execute_result"
    }
   ],
   "source": [
    "\"spam\"*3"
   ]
  },
  {
   "cell_type": "markdown",
   "id": "25526a31",
   "metadata": {},
   "source": [
    "#8. Why is eggs a valid variable name while 100 is invalid?"
   ]
  },
  {
   "cell_type": "code",
   "execution_count": 31,
   "id": "5940b6ca",
   "metadata": {},
   "outputs": [
    {
     "ename": "SyntaxError",
     "evalue": "cannot assign to literal (Temp/ipykernel_6192/3784624786.py, line 9)",
     "output_type": "error",
     "traceback": [
      "\u001b[1;36m  File \u001b[1;32m\"C:\\Users\\AmitM\\AppData\\Local\\Temp/ipykernel_6192/3784624786.py\"\u001b[1;36m, line \u001b[1;32m9\u001b[0m\n\u001b[1;33m    100='hello' # Invalid Variable Initilization\u001b[0m\n\u001b[1;37m    ^\u001b[0m\n\u001b[1;31mSyntaxError\u001b[0m\u001b[1;31m:\u001b[0m cannot assign to literal\n"
     ]
    }
   ],
   "source": [
    "#As per python,Variable names cannot begin with a number. The python rules for naming a variable are :-\n",
    "\n",
    "#Variable name must start with a letter or the underscore character.\n",
    "#Variable name cannot start with a number.\n",
    "#Variable name can only contain alpha-numeric characters and underscores (A-z, 0-9, & _ ).\n",
    "#Variable names are case-sensitive (INEURON and ineuron are two different variables).\n",
    "#The reserved words(keywords) cannot be used naming the variable.\n",
    "egg='India' # Valid variable Initilization\n",
    "100='hello' # Invalid Variable Initilization\n",
    "print(egg) #prints the value of egg ie India\n",
    "print(100) # Raises a Syntax Error as 100 is not a valid variable name"
   ]
  },
  {
   "cell_type": "markdown",
   "id": "28aa25aa",
   "metadata": {},
   "source": [
    "#9. What three functions can be used to get the integer, floating-point number, or string version of a value?"
   ]
  },
  {
   "cell_type": "code",
   "execution_count": 38,
   "id": "d50e9118",
   "metadata": {},
   "outputs": [],
   "source": [
    "# It can be str(), int(), float()\n",
    "#print('int(10.0) -> ',int(10.0)) # int() function converts given input to int\n",
    "#print('float(10) -> ',float(10)) # float() function converts given input to float\n",
    "#print('str(10) -> ',str(10)) # str() function converts given input to string\n",
    "#int(10.0) ->  10\n",
    "#float(10) ->  10.0\n",
    "#str(10) ->  10"
   ]
  },
  {
   "cell_type": "code",
   "execution_count": 34,
   "id": "680ec98f",
   "metadata": {},
   "outputs": [
    {
     "data": {
      "text/plain": [
       "10"
      ]
     },
     "execution_count": 34,
     "metadata": {},
     "output_type": "execute_result"
    }
   ],
   "source": [
    "int(10)"
   ]
  },
  {
   "cell_type": "code",
   "execution_count": 35,
   "id": "6020d7f1",
   "metadata": {},
   "outputs": [
    {
     "data": {
      "text/plain": [
       "10.0"
      ]
     },
     "execution_count": 35,
     "metadata": {},
     "output_type": "execute_result"
    }
   ],
   "source": [
    "float(10)"
   ]
  },
  {
   "cell_type": "code",
   "execution_count": 39,
   "id": "af3a0e99",
   "metadata": {},
   "outputs": [
    {
     "data": {
      "text/plain": [
       "'10'"
      ]
     },
     "execution_count": 39,
     "metadata": {},
     "output_type": "execute_result"
    }
   ],
   "source": [
    "str(10)"
   ]
  },
  {
   "cell_type": "markdown",
   "id": "4a33d8f0",
   "metadata": {},
   "source": [
    "#10. Why does this expression cause an error? How can you fix it?\n",
    "'I have eaten ' + 99 + ' burritos.'\n"
   ]
  },
  {
   "cell_type": "code",
   "execution_count": null,
   "id": "7805536e",
   "metadata": {},
   "outputs": [],
   "source": [
    "# 'I have eaten is', 99 and 'burritos' there are two type of datatype I have eaten is, and burrios are a \"str\" and 99 is a \"int\", so we can fix it by convert 99 into a str datatype like this \"99\"\n",
    "# Solution given below"
   ]
  },
  {
   "cell_type": "code",
   "execution_count": 46,
   "id": "b1a27081",
   "metadata": {},
   "outputs": [
    {
     "name": "stdout",
     "output_type": "stream",
     "text": [
      "I have eaten 99 burritos.\n"
     ]
    }
   ],
   "source": [
    "print('I have eaten ' + str(99) + ' burritos.')"
   ]
  }
 ],
 "metadata": {
  "kernelspec": {
   "display_name": "Python 3 (ipykernel)",
   "language": "python",
   "name": "python3"
  },
  "language_info": {
   "codemirror_mode": {
    "name": "ipython",
    "version": 3
   },
   "file_extension": ".py",
   "mimetype": "text/x-python",
   "name": "python",
   "nbconvert_exporter": "python",
   "pygments_lexer": "ipython3",
   "version": "3.9.7"
  }
 },
 "nbformat": 4,
 "nbformat_minor": 5
}
