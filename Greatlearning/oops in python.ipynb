{
 "cells": [
  {
   "cell_type": "markdown",
   "id": "be379218",
   "metadata": {},
   "source": [
    "# OOPs for python "
   ]
  },
  {
   "cell_type": "code",
   "execution_count": null,
   "id": "41eaa87e",
   "metadata": {},
   "outputs": [],
   "source": [
    "#how to create a class and then making a object of its"
   ]
  },
  {
   "cell_type": "code",
   "execution_count": 3,
   "id": "64649a0e",
   "metadata": {},
   "outputs": [],
   "source": [
    "class Phone:\n",
    "    def make_call (sefl):\n",
    "        print(\"making phone call\")\n",
    "     \n",
    "    def play_game(self):\n",
    "        print(\"playing games\")"
   ]
  },
  {
   "cell_type": "code",
   "execution_count": 4,
   "id": "c24d3deb",
   "metadata": {},
   "outputs": [],
   "source": [
    "p1= Phone()"
   ]
  },
  {
   "cell_type": "code",
   "execution_count": 6,
   "id": "01dc2b0d",
   "metadata": {},
   "outputs": [
    {
     "name": "stdout",
     "output_type": "stream",
     "text": [
      "making phone call\n"
     ]
    }
   ],
   "source": [
    "p1.make_call()"
   ]
  },
  {
   "cell_type": "code",
   "execution_count": 7,
   "id": "a7e040e4",
   "metadata": {},
   "outputs": [
    {
     "name": "stdout",
     "output_type": "stream",
     "text": [
      "playing games\n"
     ]
    }
   ],
   "source": [
    "p1.play_game()"
   ]
  },
  {
   "cell_type": "code",
   "execution_count": 8,
   "id": "5fda5f94",
   "metadata": {},
   "outputs": [],
   "source": [
    "#Addind parameters to the class"
   ]
  },
  {
   "cell_type": "code",
   "execution_count": 9,
   "id": "ff25ee1a",
   "metadata": {},
   "outputs": [],
   "source": [
    "class Phone:\n",
    "    def set_color(self, color):\n",
    "        self.color = color\n",
    "        \n",
    "    def set_cost(self, cost):\n",
    "        self.cost = cost\n",
    "        \n",
    "    def show_color(self):\n",
    "        return self.color\n",
    "    \n",
    "    def show_cost(self):\n",
    "        return self.cost\n",
    "    \n",
    "    def make_call(self):\n",
    "        print(\"lets make a call\")\n",
    "        \n",
    "    def play_game(self):\n",
    "        print (\"lets play games\")"
   ]
  },
  {
   "cell_type": "code",
   "execution_count": 10,
   "id": "42b10f35",
   "metadata": {},
   "outputs": [],
   "source": [
    "p2= Phone()"
   ]
  },
  {
   "cell_type": "code",
   "execution_count": 12,
   "id": "b3cbbacc",
   "metadata": {},
   "outputs": [],
   "source": [
    "p2.set_color(\"red\")"
   ]
  },
  {
   "cell_type": "code",
   "execution_count": 14,
   "id": "5ce7f510",
   "metadata": {},
   "outputs": [
    {
     "data": {
      "text/plain": [
       "'red'"
      ]
     },
     "execution_count": 14,
     "metadata": {},
     "output_type": "execute_result"
    }
   ],
   "source": [
    "p2.show_color()"
   ]
  },
  {
   "cell_type": "code",
   "execution_count": 15,
   "id": "df73c4bb",
   "metadata": {},
   "outputs": [],
   "source": [
    "p2.set_cost(34000)"
   ]
  },
  {
   "cell_type": "code",
   "execution_count": 17,
   "id": "2d15e2c6",
   "metadata": {},
   "outputs": [
    {
     "data": {
      "text/plain": [
       "34000"
      ]
     },
     "execution_count": 17,
     "metadata": {},
     "output_type": "execute_result"
    }
   ],
   "source": [
    "p2.show_cost()"
   ]
  },
  {
   "cell_type": "code",
   "execution_count": 19,
   "id": "6a115748",
   "metadata": {},
   "outputs": [
    {
     "name": "stdout",
     "output_type": "stream",
     "text": [
      "lets make a call\n"
     ]
    }
   ],
   "source": [
    "p2.make_call()"
   ]
  },
  {
   "cell_type": "code",
   "execution_count": 20,
   "id": "ab4a0bdb",
   "metadata": {},
   "outputs": [],
   "source": [
    "#Creating a class with constructor"
   ]
  },
  {
   "cell_type": "code",
   "execution_count": 26,
   "id": "0364a855",
   "metadata": {},
   "outputs": [],
   "source": [
    "class Employee:\n",
    "    def __init__ (self, name , age , salary, gender):\n",
    "        self.name= name\n",
    "        self.age = age\n",
    "        self.salary = salary\n",
    "        self.gender = gender\n",
    "        \n",
    "    def employee_details(self):\n",
    "        print(\"name of the employee=\", self.name)\n",
    "        print(\"age of the employee=\", self.age)\n",
    "        print(\"salary of the employee=\", self.salary)\n",
    "        print(\"gender of the employee=\", self.gender)"
   ]
  },
  {
   "cell_type": "code",
   "execution_count": 31,
   "id": "49020e26",
   "metadata": {},
   "outputs": [],
   "source": [
    "p3= Employee(\"amit\", 29, 80, \"male\")"
   ]
  },
  {
   "cell_type": "code",
   "execution_count": 33,
   "id": "e9f400c6",
   "metadata": {},
   "outputs": [
    {
     "name": "stdout",
     "output_type": "stream",
     "text": [
      "name of the employee= amit\n",
      "age of the employee= 29\n",
      "salary of the employee= 80\n",
      "gender of the employee= male\n"
     ]
    }
   ],
   "source": [
    "p3.employee_details()"
   ]
  },
  {
   "cell_type": "code",
   "execution_count": 34,
   "id": "9b239dca",
   "metadata": {},
   "outputs": [],
   "source": [
    "#inhenritence in python"
   ]
  },
  {
   "cell_type": "code",
   "execution_count": 42,
   "id": "adca2226",
   "metadata": {},
   "outputs": [],
   "source": [
    "class Vehical:      #parent class\n",
    "    \n",
    "    def __init__(self, milege, cost):\n",
    "        self.milege = milege\n",
    "        self.cost = cost\n",
    "        \n",
    "    def show_details(self):\n",
    "        print(\"i am a vehical\")\n",
    "        print(\"milege is \", self.milege)\n",
    "        print(\"cost is \", self.cost)"
   ]
  },
  {
   "cell_type": "code",
   "execution_count": 49,
   "id": "cf6d30f8",
   "metadata": {},
   "outputs": [],
   "source": [
    "v1 = Vehical(200, 15000)"
   ]
  },
  {
   "cell_type": "code",
   "execution_count": 50,
   "id": "df500165",
   "metadata": {},
   "outputs": [
    {
     "name": "stdout",
     "output_type": "stream",
     "text": [
      "i am a vehical\n",
      "milege is  200\n",
      "cost is  15000\n"
     ]
    }
   ],
   "source": [
    "v1.show_details()"
   ]
  },
  {
   "cell_type": "code",
   "execution_count": 55,
   "id": "b76b6612",
   "metadata": {},
   "outputs": [],
   "source": [
    "class car(Vehical):\n",
    "    def show_car_details(self):\n",
    "        print(\"i am a car\")\n",
    "    "
   ]
  },
  {
   "cell_type": "code",
   "execution_count": 58,
   "id": "97d9dcc9",
   "metadata": {},
   "outputs": [],
   "source": [
    " c1= car(300, 2000)"
   ]
  },
  {
   "cell_type": "code",
   "execution_count": 59,
   "id": "e382b9c8",
   "metadata": {},
   "outputs": [
    {
     "name": "stdout",
     "output_type": "stream",
     "text": [
      "i am a car\n"
     ]
    }
   ],
   "source": [
    "c1.show_car_details()"
   ]
  },
  {
   "cell_type": "code",
   "execution_count": 60,
   "id": "d31b830e",
   "metadata": {},
   "outputs": [],
   "source": [
    "# inheritence override"
   ]
  },
  {
   "cell_type": "code",
   "execution_count": 61,
   "id": "d99005cd",
   "metadata": {},
   "outputs": [],
   "source": [
    "class Vehical:      #parent class\n",
    "    \n",
    "    def __init__(self, milege, cost):\n",
    "        self.milege = milege\n",
    "        self.cost = cost\n",
    "        \n",
    "    def show_details(self):\n",
    "        print(\"i am a vehical\")\n",
    "        print(\"milege is \", self.milege)\n",
    "        print(\"cost is \", self.cost)"
   ]
  },
  {
   "cell_type": "code",
   "execution_count": 64,
   "id": "175d95b0",
   "metadata": {},
   "outputs": [],
   "source": [
    "class Carr(Vehical):\n",
    "    def __init__ (self, milege, cost, tyre, hp):\n",
    "        super().__init__(milege,cost)\n",
    "        self.tyre=tyre\n",
    "        self.hp= hp\n",
    "            \n",
    "    def show_carr_details(self):\n",
    "        print(\"i am a carr\")\n",
    "        print(\"number of tyre \", self.tyre)\n",
    "        print(\"hp of carr \", self.hp)"
   ]
  },
  {
   "cell_type": "code",
   "execution_count": 67,
   "id": "2f1fd85b",
   "metadata": {},
   "outputs": [],
   "source": [
    "cr1= Carr(100, 25000, 6, 250)"
   ]
  },
  {
   "cell_type": "code",
   "execution_count": 68,
   "id": "d1109622",
   "metadata": {},
   "outputs": [
    {
     "name": "stdout",
     "output_type": "stream",
     "text": [
      "i am a vehical\n",
      "milege is  100\n",
      "cost is  25000\n"
     ]
    }
   ],
   "source": [
    "cr1.show_details()"
   ]
  },
  {
   "cell_type": "code",
   "execution_count": 69,
   "id": "816bf732",
   "metadata": {},
   "outputs": [
    {
     "name": "stdout",
     "output_type": "stream",
     "text": [
      "i am a carr\n",
      "number of tyre  6\n",
      "hp of carr  250\n"
     ]
    }
   ],
   "source": [
    "cr1.show_carr_details()"
   ]
  },
  {
   "cell_type": "code",
   "execution_count": 70,
   "id": "80a0d173",
   "metadata": {},
   "outputs": [],
   "source": [
    "# multiple inheritence in python"
   ]
  },
  {
   "cell_type": "code",
   "execution_count": 71,
   "id": "d0f816fc",
   "metadata": {},
   "outputs": [],
   "source": [
    "class Parents1:\n",
    "    def assing_str1(self, str1):\n",
    "        self.str1=str1\n",
    "        \n",
    "    def show1(self):\n",
    "        print(self.str1)"
   ]
  },
  {
   "cell_type": "code",
   "execution_count": 72,
   "id": "48108f0e",
   "metadata": {},
   "outputs": [],
   "source": [
    "class Parents2:\n",
    "    def assing_str2(self,str2):\n",
    "        self.str2=str2\n",
    "        \n",
    "    def show2(self):\n",
    "        print(self.str2)"
   ]
  },
  {
   "cell_type": "code",
   "execution_count": 73,
   "id": "6ed16723",
   "metadata": {},
   "outputs": [],
   "source": [
    "class Child(Parents1,Parents2):\n",
    "    def assing_str3(self,str3):\n",
    "        self.str3=str3\n",
    "        \n",
    "    def show3(self):\n",
    "        print(self.str3)\n",
    "        "
   ]
  },
  {
   "cell_type": "code",
   "execution_count": 74,
   "id": "a9505211",
   "metadata": {},
   "outputs": [],
   "source": [
    "C1 = Child()"
   ]
  },
  {
   "cell_type": "code",
   "execution_count": 75,
   "id": "3a44f110",
   "metadata": {},
   "outputs": [],
   "source": [
    "C1.assing_str1(\"amit\")\n",
    "C1.assing_str2(\"poonam\")\n",
    "C1.assing_str3(\"amolly\")"
   ]
  },
  {
   "cell_type": "code",
   "execution_count": 77,
   "id": "eb7a1cb0",
   "metadata": {},
   "outputs": [
    {
     "name": "stdout",
     "output_type": "stream",
     "text": [
      "amit\n"
     ]
    }
   ],
   "source": [
    "C1.show1()"
   ]
  },
  {
   "cell_type": "code",
   "execution_count": 78,
   "id": "d58ee5b8",
   "metadata": {},
   "outputs": [
    {
     "name": "stdout",
     "output_type": "stream",
     "text": [
      "poonam\n"
     ]
    }
   ],
   "source": [
    "C1.show2()"
   ]
  },
  {
   "cell_type": "code",
   "execution_count": 79,
   "id": "2d5bbdab",
   "metadata": {},
   "outputs": [
    {
     "name": "stdout",
     "output_type": "stream",
     "text": [
      "amolly\n"
     ]
    }
   ],
   "source": [
    "C1.show3()"
   ]
  },
  {
   "cell_type": "code",
   "execution_count": 81,
   "id": "d8ed3d55",
   "metadata": {},
   "outputs": [],
   "source": [
    "# multilever inheritance"
   ]
  },
  {
   "cell_type": "code",
   "execution_count": 84,
   "id": "e32f413d",
   "metadata": {},
   "outputs": [],
   "source": [
    "class Parent:\n",
    "    def assing1(self,name):\n",
    "        self.name=name\n",
    "        \n",
    "    def show_name(self):\n",
    "        return self.name"
   ]
  },
  {
   "cell_type": "code",
   "execution_count": 85,
   "id": "d6ffc5d6",
   "metadata": {},
   "outputs": [],
   "source": [
    "class Child(Parent):\n",
    "    def assing2(self,age):\n",
    "        self.age=age\n",
    "        \n",
    "    def show_age(self):\n",
    "        return self.age"
   ]
  },
  {
   "cell_type": "code",
   "execution_count": 88,
   "id": "b073474f",
   "metadata": {},
   "outputs": [],
   "source": [
    "class GrandChild(Child):\n",
    "    \n",
    "    def assing3(self, gender):\n",
    "        self.gender = gender\n",
    "        \n",
    "    def show_gender(self):\n",
    "        return self.gender"
   ]
  },
  {
   "cell_type": "code",
   "execution_count": 89,
   "id": "01644ffd",
   "metadata": {},
   "outputs": [],
   "source": [
    "gc= GrandChild()"
   ]
  },
  {
   "cell_type": "code",
   "execution_count": 90,
   "id": "bfb5f6f9",
   "metadata": {},
   "outputs": [],
   "source": [
    "gc.assing1('amolly')\n",
    "gc.assing2(-3)\n",
    "gc.assing3(\"male\")"
   ]
  },
  {
   "cell_type": "code",
   "execution_count": 92,
   "id": "bd8e020d",
   "metadata": {},
   "outputs": [
    {
     "data": {
      "text/plain": [
       "'amolly'"
      ]
     },
     "execution_count": 92,
     "metadata": {},
     "output_type": "execute_result"
    }
   ],
   "source": [
    "gc.show_name()"
   ]
  },
  {
   "cell_type": "code",
   "execution_count": 93,
   "id": "d38757b6",
   "metadata": {},
   "outputs": [
    {
     "data": {
      "text/plain": [
       "-3"
      ]
     },
     "execution_count": 93,
     "metadata": {},
     "output_type": "execute_result"
    }
   ],
   "source": [
    "gc.show_age()"
   ]
  },
  {
   "cell_type": "code",
   "execution_count": 94,
   "id": "53211621",
   "metadata": {},
   "outputs": [
    {
     "data": {
      "text/plain": [
       "'male'"
      ]
     },
     "execution_count": 94,
     "metadata": {},
     "output_type": "execute_result"
    }
   ],
   "source": [
    "gc.show_gender()"
   ]
  },
  {
   "cell_type": "code",
   "execution_count": null,
   "id": "5cba75c4",
   "metadata": {},
   "outputs": [],
   "source": []
  }
 ],
 "metadata": {
  "kernelspec": {
   "display_name": "Python 3 (ipykernel)",
   "language": "python",
   "name": "python3"
  },
  "language_info": {
   "codemirror_mode": {
    "name": "ipython",
    "version": 3
   },
   "file_extension": ".py",
   "mimetype": "text/x-python",
   "name": "python",
   "nbconvert_exporter": "python",
   "pygments_lexer": "ipython3",
   "version": "3.9.12"
  }
 },
 "nbformat": 4,
 "nbformat_minor": 5
}
