{
 "cells": [
  {
   "cell_type": "markdown",
   "id": "778ce58a",
   "metadata": {},
   "source": [
    "#### 1.Write a Python program to Extract Unique values dictionary values?"
   ]
  },
  {
   "cell_type": "code",
   "execution_count": 2,
   "id": "e629a971",
   "metadata": {},
   "outputs": [
    {
     "name": "stdout",
     "output_type": "stream",
     "text": [
      "dict_values(['Rishi', 'Badrih', 'Ganga', 'Yamuna', 'Kedar', 'Tirupati', 'Kedar'])\n",
      "Unique Values: ['Rishi', 'Tirupati', 'Kedar', 'Yamuna', 'Badrih', 'Ganga']\n"
     ]
    }
   ],
   "source": [
    "#ANS- \n",
    "ddict = {1:'Rishi',2:'Badrih',3:'Ganga',4:'Yamuna',5:'Kedar',6:'Tirupati',7:'Kedar'}\n",
    "print( ddict.values())\n",
    "print(f'Unique Values: {list(set( ddict.values()))}')"
   ]
  },
  {
   "cell_type": "markdown",
   "id": "d84909e2",
   "metadata": {},
   "source": [
    "#### 2.Write a Python program to find the sum of all items in a dictionary?"
   ]
  },
  {
   "cell_type": "code",
   "execution_count": 4,
   "id": "34d76b6a",
   "metadata": {},
   "outputs": [
    {
     "name": "stdout",
     "output_type": "stream",
     "text": [
      "Sum of All items:  300\n"
     ]
    }
   ],
   "source": [
    "#ANS:- \n",
    "\n",
    "dictionary  = {'red ball':10,'orange ball':20,'black ball':30,'green ball':40,'blue ball':200}\n",
    "print('Sum of All items: ',sum(dictionary.values()))"
   ]
  },
  {
   "cell_type": "markdown",
   "id": "2ce3dfa0",
   "metadata": {},
   "source": [
    "#### 3.Write a Python program to Merging two Dictionaries?"
   ]
  },
  {
   "cell_type": "code",
   "execution_count": 5,
   "id": "08668cb9",
   "metadata": {},
   "outputs": [
    {
     "name": "stdout",
     "output_type": "stream",
     "text": [
      "{'cousre_name': 'fsds', 'course_instructors': ['Sudhanshu sir', 'Krish  sir', 'sunny sir']}\n"
     ]
    }
   ],
   "source": [
    "#ANS:- \n",
    "\n",
    "course_details = {\n",
    "    'cousre_name':'fsds'\n",
    "}\n",
    "instructors = {\n",
    "    'course_instructors':['Sudhanshu sir','Krish  sir', 'sunny sir']\n",
    "}\n",
    "course_details.update(instructors)\n",
    "print(course_details)"
   ]
  },
  {
   "cell_type": "markdown",
   "id": "b8566e17",
   "metadata": {},
   "source": [
    "#### 4.Write a Python program to convert key-values list to flat dictionary?"
   ]
  },
  {
   "cell_type": "code",
   "execution_count": 7,
   "id": "bb9c30d0",
   "metadata": {},
   "outputs": [
    {
     "name": "stdout",
     "output_type": "stream",
     "text": [
      "{'A': 10, 'B': 20, 'C': 30, 'D': 40, 'E': 50, 'F': 60, 'G': 70, 'H': 80, 'I': 90, 'J': 100}\n"
     ]
    }
   ],
   "source": [
    "#ANS:-\n",
    "\n",
    "demo_list = [('A',10),('B',20),('C',30),('D',40),('E',50),('F',60),('G',70),('H',80),('I',90),('J',100)]\n",
    "\n",
    "# Method #1\n",
    "dict(demo_list)\n",
    "\n",
    "# Method #2\n",
    "out_dict = {}\n",
    "for ele in demo_list:\n",
    "    out_dict[ele[0]] = ele[1]\n",
    "print(out_dict)"
   ]
  },
  {
   "cell_type": "markdown",
   "id": "90217b8e",
   "metadata": {},
   "source": [
    "#### 5.Write a Python program to insertion at the beginning in OrderedDict?"
   ]
  },
  {
   "cell_type": "code",
   "execution_count": 9,
   "id": "0e3f4aaa",
   "metadata": {},
   "outputs": [
    {
     "name": "stdout",
     "output_type": "stream",
     "text": [
      "dict_one OrderedDict([('Apple', 'Macbook'), ('Microsoft', 'surfacepro'), ('Google', 'search engine')])\n",
      "dict_one OrderedDict([('Apple', 'Macbook'), ('Microsoft', 'surfacepro'), ('Google', 'search engine'), ('Tesla', 'electric car')])\n"
     ]
    }
   ],
   "source": [
    "#ANS:- \n",
    "\n",
    "from collections import OrderedDict\n",
    "dict_one = OrderedDict({'Apple':'Macbook','Microsoft':'surfacepro','Google':'search engine'})\n",
    "print('dict_one',dict_one)\n",
    "dict_two = {'Tesla':'electric car'}\n",
    "dict_one.update(dict_two)\n",
    "print('dict_one',dict_one)"
   ]
  },
  {
   "cell_type": "markdown",
   "id": "46b6da3c",
   "metadata": {},
   "source": [
    "#### 6.Write a Python program to check order of character in string using OrderedDict()?"
   ]
  },
  {
   "cell_type": "code",
   "execution_count": 11,
   "id": "1ea7b5c1",
   "metadata": {},
   "outputs": [
    {
     "name": "stdout",
     "output_type": "stream",
     "text": [
      "{'a': 100, 'f': 200, 'd': 300, 'c': 400, 'b': 500, 'e': 600}\n",
      "OrderedDict([('a', 100), ('b', 500), ('c', 400), ('d', 300), ('e', 600), ('f', 200)])\n"
     ]
    }
   ],
   "source": [
    "#ANS:-\n",
    "\n",
    "from collections import OrderedDict\n",
    "\n",
    "initial_list = {'a': 100, 'f': 200, 'd': 300, 'c': 400, 'b': 500, 'e': 600}\n",
    "print(initial_list)\n",
    "\n",
    "final_list = OrderedDict(dict(sorted(initial_list.items())))\n",
    "print(final_list)"
   ]
  },
  {
   "cell_type": "markdown",
   "id": "8918373d",
   "metadata": {},
   "source": [
    "#### 7.Write a Python program to sort Python Dictionaries by Key or Value?"
   ]
  },
  {
   "cell_type": "code",
   "execution_count": 12,
   "id": "c1876469",
   "metadata": {},
   "outputs": [
    {
     "name": "stdout",
     "output_type": "stream",
     "text": [
      "{'Banana': 60, 'Grape': 13, 'Mango': 100, 'PineApple': 22}\n",
      "{'Grape': 13, 'PineApple': 22, 'Banana': 60, 'Mango': 100}\n"
     ]
    }
   ],
   "source": [
    "#ANS:--\n",
    "\n",
    "items = {'Mango':100,'PineApple':22,'Banana':60,'Grape':13}\n",
    "\n",
    "def sort_dict(in_dict,sort_type):\n",
    "    if sort_type == 'key':\n",
    "        print(dict(sorted(in_dict.items(), key=lambda x:x[0], reverse=False)))\n",
    "    else:\n",
    "        print(dict(sorted(in_dict.items(), key=lambda x:x[1], reverse=False)))\n",
    "        \n",
    "sort_dict( items,'key')        \n",
    "sort_dict( items,'value')"
   ]
  }
 ],
 "metadata": {
  "kernelspec": {
   "display_name": "Python 3 (ipykernel)",
   "language": "python",
   "name": "python3"
  },
  "language_info": {
   "codemirror_mode": {
    "name": "ipython",
    "version": 3
   },
   "file_extension": ".py",
   "mimetype": "text/x-python",
   "name": "python",
   "nbconvert_exporter": "python",
   "pygments_lexer": "ipython3",
   "version": "3.9.12"
  }
 },
 "nbformat": 4,
 "nbformat_minor": 5
}
