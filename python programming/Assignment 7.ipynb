{
 "cells": [
  {
   "cell_type": "markdown",
   "id": "a3834f44",
   "metadata": {},
   "source": [
    "#### 1. Write a Python Program to find sum of Array ?"
   ]
  },
  {
   "cell_type": "code",
   "execution_count": 2,
   "id": "8bd4b170",
   "metadata": {},
   "outputs": [
    {
     "name": "stdout",
     "output_type": "stream",
     "text": [
      "Enter the Array: [3,5,7,8,9]\n",
      "The sum of [3, 5, 7, 8, 9] is 32\n"
     ]
    }
   ],
   "source": [
    "#ANS:- Function\n",
    "\n",
    "def sumOfArray():\n",
    "    in_arr = eval(input(\"Enter the Array: \"))\n",
    "    print(f'The sum of {in_arr} is {sum(in_arr)}')\n",
    "\n",
    "sumOfArray()"
   ]
  },
  {
   "cell_type": "markdown",
   "id": "b07dcdb7",
   "metadata": {},
   "source": [
    "#### 2. Write a Python Program to find Largest element in an Array ?"
   ]
  },
  {
   "cell_type": "code",
   "execution_count": 3,
   "id": "882f5769",
   "metadata": {},
   "outputs": [
    {
     "name": "stdout",
     "output_type": "stream",
     "text": [
      "Enter the Array: [2,3,4,5]\n",
      "The Largest Element in [2, 3, 4, 5] is 5\n"
     ]
    }
   ],
   "source": [
    "#ANS:- Function \n",
    "\n",
    "def largestElement():\n",
    "    in_arr = eval(input(\"Enter the Array: \"))\n",
    "    print(f\"The Largest Element in {in_arr} is {sorted(in_arr, reverse=True)[0]}\")\n",
    "    \n",
    "largestElement()"
   ]
  },
  {
   "cell_type": "markdown",
   "id": "44bfd3b0",
   "metadata": {},
   "source": [
    "#### 3. Write a Python Program for array rotation ?"
   ]
  },
  {
   "cell_type": "code",
   "execution_count": 4,
   "id": "a6124ad0",
   "metadata": {},
   "outputs": [
    {
     "name": "stdout",
     "output_type": "stream",
     "text": [
      "Enter the Array: [1,3,5,7,9]\n",
      "The Reverse of Array [1, 3, 5, 7, 9] is [9, 7, 5, 3, 1]\n"
     ]
    }
   ],
   "source": [
    "#ANS:- Function\n",
    "\n",
    "def reverseOfArray():\n",
    "    in_arr = eval(input(\"Enter the Array: \"))\n",
    "    print(f\"The Reverse of Array {in_arr} is {in_arr[::-1]}\")\n",
    "    \n",
    "reverseOfArray()"
   ]
  },
  {
   "cell_type": "markdown",
   "id": "76a1bbf7",
   "metadata": {},
   "source": [
    "#### 4. Write a Python Program to Split the array and add the first part to the end ?"
   ]
  },
  {
   "cell_type": "code",
   "execution_count": 5,
   "id": "ec8d9983",
   "metadata": {},
   "outputs": [
    {
     "name": "stdout",
     "output_type": "stream",
     "text": [
      "Enter the Array: [2,4,6,8]\n",
      "The Sum of First and Last Elements of Array [2, 4, 6, 8] is 10\n"
     ]
    }
   ],
   "source": [
    "#ANS:- Function\n",
    "\n",
    "def sumOfSplits():\n",
    "    in_arr = eval(input(\"Enter the Array: \"))\n",
    "    print(f\"The Sum of First and Last Elements of Array {in_arr} is {in_arr[0]+in_arr[-1]}\")\n",
    "    \n",
    "sumOfSplits()"
   ]
  },
  {
   "cell_type": "markdown",
   "id": "fd04c214",
   "metadata": {},
   "source": [
    "#### 5. Write a Python Program to check if given array is Monotonic ?"
   ]
  },
  {
   "cell_type": "code",
   "execution_count": 6,
   "id": "14fcfce7",
   "metadata": {},
   "outputs": [
    {
     "name": "stdout",
     "output_type": "stream",
     "text": [
      "Enter the Array: [1,3,2,4,5,6]\n",
      "Array [1, 3, 2, 4, 5, 6] is Not Monotonic\n",
      "Enter the Array: [1,2,3,4,5]\n",
      "Array [1, 2, 3, 4, 5] is Monotonic\n"
     ]
    }
   ],
   "source": [
    "#ANS:- Function \n",
    "\n",
    "def checkMonotonic():\n",
    "    in_arr = eval(input(\"Enter the Array: \"))\n",
    "    if(all(in_arr[i]<=in_arr[i+1] for i in range(len(in_arr)-1)) or all(in_arr[i]>=in_arr[i+1] for i in range(len(in_arr)-1))):\n",
    "        print(f'Array {in_arr} is Monotonic')\n",
    "    else:\n",
    "        print(f'Array {in_arr} is Not Monotonic')\n",
    "\n",
    "checkMonotonic()\n",
    "checkMonotonic()"
   ]
  },
  {
   "cell_type": "code",
   "execution_count": null,
   "id": "b0d9e745",
   "metadata": {},
   "outputs": [],
   "source": []
  }
 ],
 "metadata": {
  "kernelspec": {
   "display_name": "Python 3 (ipykernel)",
   "language": "python",
   "name": "python3"
  },
  "language_info": {
   "codemirror_mode": {
    "name": "ipython",
    "version": 3
   },
   "file_extension": ".py",
   "mimetype": "text/x-python",
   "name": "python",
   "nbconvert_exporter": "python",
   "pygments_lexer": "ipython3",
   "version": "3.9.12"
  }
 },
 "nbformat": 4,
 "nbformat_minor": 5
}
