{
 "cells": [
  {
   "cell_type": "markdown",
   "id": "63cab39c",
   "metadata": {},
   "source": [
    "1.Write a Python program to print \"Hello Python\"?"
   ]
  },
  {
   "cell_type": "code",
   "execution_count": null,
   "id": "60485dab",
   "metadata": {},
   "outputs": [],
   "source": [
    "#Ans:\n",
    "print('Hello Python')"
   ]
  },
  {
   "cell_type": "markdown",
   "id": "8de325e4",
   "metadata": {},
   "source": [
    "2.Write a Python program to do arithmetical operations addition and division.?"
   ]
  },
  {
   "cell_type": "code",
   "execution_count": 27,
   "id": "2aa86c57",
   "metadata": {},
   "outputs": [
    {
     "name": "stdout",
     "output_type": "stream",
     "text": [
      "enter a no:-33\n",
      "adding operation 34\n"
     ]
    }
   ],
   "source": [
    "#Ans:\n",
    "a = int(input(\"enter a number:-\"))\n",
    "if a%2 ==0:\n",
    "    print(\"division operation\", a/2)\n",
    "else:\n",
    "    print(\"adding operation\", a+1)\n",
    "    "
   ]
  },
  {
   "cell_type": "markdown",
   "id": "d4c3f9fd",
   "metadata": {},
   "source": [
    "\n",
    "3.Write a Python program to find the area of a triangle?"
   ]
  },
  {
   "cell_type": "code",
   "execution_count": 33,
   "id": "1a0b7a07",
   "metadata": {},
   "outputs": [
    {
     "name": "stdout",
     "output_type": "stream",
     "text": [
      "Enter height of triangle: 6\n",
      "Enter base of triangle: 8\n",
      "Areaoftringle 24.0\n"
     ]
    }
   ],
   "source": [
    "#Ans:\n",
    "height = int(input('Enter height of triangle: '))\n",
    "base = int(input('Enter base of triangle: '))\n",
    "\n",
    "print(\"Areaoftringle\", (0.5*height*base))\n",
    "\n"
   ]
  },
  {
   "cell_type": "markdown",
   "id": "f762f70c",
   "metadata": {},
   "source": [
    "4.Write a Python program to swap two variables?"
   ]
  },
  {
   "cell_type": "code",
   "execution_count": 34,
   "id": "973aba09",
   "metadata": {},
   "outputs": [
    {
     "name": "stdout",
     "output_type": "stream",
     "text": [
      "10 20\n",
      "20 10\n"
     ]
    }
   ],
   "source": [
    "#Ans:\n",
    "a=10\n",
    "b=20\n",
    "print(a,b)\n",
    "a,b=b,a\n",
    "print(a,b)"
   ]
  },
  {
   "cell_type": "markdown",
   "id": "41201c60",
   "metadata": {},
   "source": [
    "5.Write a Python program to generate a random number?"
   ]
  },
  {
   "cell_type": "code",
   "execution_count": 46,
   "id": "036a81c7",
   "metadata": {},
   "outputs": [
    {
     "name": "stdout",
     "output_type": "stream",
     "text": [
      "3\n"
     ]
    }
   ],
   "source": [
    "#Ans:\n",
    "import random\n",
    "print(random.randint(2,10)) "
   ]
  }
 ],
 "metadata": {
  "kernelspec": {
   "display_name": "Python 3 (ipykernel)",
   "language": "python",
   "name": "python3"
  },
  "language_info": {
   "codemirror_mode": {
    "name": "ipython",
    "version": 3
   },
   "file_extension": ".py",
   "mimetype": "text/x-python",
   "name": "python",
   "nbconvert_exporter": "python",
   "pygments_lexer": "ipython3",
   "version": "3.9.7"
  }
 },
 "nbformat": 4,
 "nbformat_minor": 5
}
